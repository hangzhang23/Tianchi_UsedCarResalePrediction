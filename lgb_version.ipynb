{
 "cells": [
  {
   "cell_type": "code",
   "execution_count": 9,
   "metadata": {
    "ExecuteTime": {
     "end_time": "2021-04-17T16:03:35.335705Z",
     "start_time": "2021-04-17T16:03:35.317725Z"
    }
   },
   "outputs": [],
   "source": [
    "from tqdm.notebook import tqdm\n",
    "import random\n",
    "import pandas as pd\n",
    "import numpy as np\n",
    "import math\n",
    "from matplotlib import pyplot as plt\n",
    "import gc"
   ]
  },
  {
   "cell_type": "code",
   "execution_count": 15,
   "metadata": {
    "ExecuteTime": {
     "end_time": "2021-04-17T23:14:42.374012Z",
     "start_time": "2021-04-17T23:14:42.369025Z"
    }
   },
   "outputs": [],
   "source": [
    "from sklearn.model_selection import train_test_split\n",
    "from sklearn.metrics import mean_squared_error,mean_absolute_error,mean_squared_log_error\n",
    "from xgboost.sklearn import XGBClassifier\n",
    "\n",
    "import xgboost as xgb\n",
    "import lightgbm as lgb"
   ]
  },
  {
   "cell_type": "markdown",
   "metadata": {},
   "source": [
    "# 读取数据\n",
    "这里直接用xgboost那个script写好保存的特征数据"
   ]
  },
  {
   "cell_type": "code",
   "execution_count": 11,
   "metadata": {
    "ExecuteTime": {
     "end_time": "2021-04-17T16:03:42.677281Z",
     "start_time": "2021-04-17T16:03:41.632847Z"
    }
   },
   "outputs": [],
   "source": [
    "# 读取xgb处理好的数据\n",
    "X_data = pd.read_csv('./pre_data/X_data.csv')\n",
    "Y_data = pd.read_csv('./pre_data/Y_data.csv')\n",
    "X_test = pd.read_csv('./pre_data/X_test.csv')"
   ]
  },
  {
   "cell_type": "markdown",
   "metadata": {},
   "source": [
    "# 训练lgb单个模型"
   ]
  },
  {
   "cell_type": "markdown",
   "metadata": {},
   "source": [
    "**lightgbm+正则+早停**(548)"
   ]
  },
  {
   "cell_type": "code",
   "execution_count": 12,
   "metadata": {
    "ExecuteTime": {
     "end_time": "2021-04-17T16:03:45.302081Z",
     "start_time": "2021-04-17T16:03:45.161415Z"
    }
   },
   "outputs": [],
   "source": [
    "data_x = X_data.astype(float)\n",
    "data_y = Y_data['price']\n",
    "\n",
    "train_x,vaild_x,train_y,vaild_y = train_test_split(data_x,data_y,test_size=0.2,random_state=7)"
   ]
  },
  {
   "cell_type": "code",
   "execution_count": null,
   "metadata": {},
   "outputs": [],
   "source": [
    "test_x = test_df.astype(float)\n",
    "test_y = test_df.index.values"
   ]
  },
  {
   "cell_type": "code",
   "execution_count": 32,
   "metadata": {
    "ExecuteTime": {
     "end_time": "2021-04-18T08:43:54.817830Z",
     "start_time": "2021-04-18T08:43:54.810849Z"
    }
   },
   "outputs": [],
   "source": [
    "#############################################\n",
    "param = {'boosting_type': 'gbdt',\n",
    "         'num_leaves': 31,\n",
    "         'max_depth': -1,\n",
    "         \"lambda_l2\": 2,  # 防止过拟合\n",
    "         'min_data_in_leaf': 20,  # 防止过拟合\n",
    "         'objective': 'regression_l1',\n",
    "         'learning_rate': 0.01,\n",
    "         \"min_child_samples\": 20,\n",
    "         \"feature_fraction\": 0.8,\n",
    "         \"bagging_freq\": 1,\n",
    "         \"bagging_fraction\": 0.8,\n",
    "         \"bagging_seed\": 11,\n",
    "         \"metric\": 'mae',\n",
    "         'n_estimators':500000\n",
    "         }\n",
    "\n",
    "model_lgb_1 = lgb.LGBMRegressor(**param)"
   ]
  },
  {
   "cell_type": "code",
   "execution_count": 33,
   "metadata": {
    "ExecuteTime": {
     "end_time": "2021-04-18T09:18:54.995642Z",
     "start_time": "2021-04-18T08:43:55.586779Z"
    }
   },
   "outputs": [
    {
     "name": "stdout",
     "output_type": "stream",
     "text": [
      "[LightGBM] [Warning] feature_fraction is set=0.8, colsample_bytree=1.0 will be ignored. Current value: feature_fraction=0.8\n",
      "[LightGBM] [Warning] min_data_in_leaf is set=20, min_child_samples=20 will be ignored. Current value: min_data_in_leaf=20\n",
      "[LightGBM] [Warning] bagging_fraction is set=0.8, subsample=1.0 will be ignored. Current value: bagging_fraction=0.8\n",
      "[LightGBM] [Warning] lambda_l2 is set=2, reg_lambda=0.0 will be ignored. Current value: lambda_l2=2\n",
      "[LightGBM] [Warning] bagging_freq is set=1, subsample_freq=0 will be ignored. Current value: bagging_freq=1\n",
      "Training until validation scores don't improve for 1000 rounds\n",
      "[300]\ttraining's l1: 1067.96\tvalid_1's l1: 1080.36\n",
      "[600]\ttraining's l1: 787.297\tvalid_1's l1: 795.777\n",
      "[900]\ttraining's l1: 727.584\tvalid_1's l1: 740.779\n",
      "[1200]\ttraining's l1: 700.803\tvalid_1's l1: 716.66\n",
      "[1500]\ttraining's l1: 681.273\tvalid_1's l1: 700.065\n",
      "[1800]\ttraining's l1: 666.189\tvalid_1's l1: 687.912\n",
      "[2100]\ttraining's l1: 651.526\tvalid_1's l1: 676.431\n",
      "[2400]\ttraining's l1: 639.43\tvalid_1's l1: 667.371\n",
      "[2700]\ttraining's l1: 628.522\tvalid_1's l1: 659.311\n",
      "[3000]\ttraining's l1: 618.188\tvalid_1's l1: 652.072\n",
      "[3300]\ttraining's l1: 610.291\tvalid_1's l1: 646.645\n",
      "[3600]\ttraining's l1: 602.337\tvalid_1's l1: 641.35\n",
      "[3900]\ttraining's l1: 595.322\tvalid_1's l1: 636.781\n",
      "[4200]\ttraining's l1: 589.097\tvalid_1's l1: 632.81\n",
      "[4500]\ttraining's l1: 583.116\tvalid_1's l1: 628.929\n",
      "[4800]\ttraining's l1: 577.13\tvalid_1's l1: 625.418\n",
      "[5100]\ttraining's l1: 572.406\tvalid_1's l1: 622.625\n",
      "[5400]\ttraining's l1: 567.7\tvalid_1's l1: 620.055\n",
      "[5700]\ttraining's l1: 562.995\tvalid_1's l1: 617.616\n",
      "[6000]\ttraining's l1: 559.26\tvalid_1's l1: 615.647\n",
      "[6300]\ttraining's l1: 555.17\tvalid_1's l1: 613.412\n",
      "[6600]\ttraining's l1: 551.122\tvalid_1's l1: 611.511\n",
      "[6900]\ttraining's l1: 547.441\tvalid_1's l1: 609.767\n",
      "[7200]\ttraining's l1: 544.047\tvalid_1's l1: 608.186\n",
      "[7500]\ttraining's l1: 540.957\tvalid_1's l1: 606.723\n",
      "[7800]\ttraining's l1: 537.821\tvalid_1's l1: 605.213\n",
      "[8100]\ttraining's l1: 534.677\tvalid_1's l1: 603.774\n",
      "[8400]\ttraining's l1: 531.519\tvalid_1's l1: 602.355\n",
      "[8700]\ttraining's l1: 528.365\tvalid_1's l1: 600.98\n",
      "[9000]\ttraining's l1: 525.641\tvalid_1's l1: 599.822\n",
      "[9300]\ttraining's l1: 522.908\tvalid_1's l1: 598.64\n",
      "[9600]\ttraining's l1: 520.293\tvalid_1's l1: 597.511\n",
      "[9900]\ttraining's l1: 517.821\tvalid_1's l1: 596.412\n",
      "[10200]\ttraining's l1: 515.285\tvalid_1's l1: 595.436\n",
      "[10500]\ttraining's l1: 512.843\tvalid_1's l1: 594.517\n",
      "[10800]\ttraining's l1: 510.543\tvalid_1's l1: 593.792\n",
      "[11100]\ttraining's l1: 508.361\tvalid_1's l1: 592.919\n",
      "[11400]\ttraining's l1: 506.348\tvalid_1's l1: 592.205\n",
      "[11700]\ttraining's l1: 504.345\tvalid_1's l1: 591.498\n",
      "[12000]\ttraining's l1: 502.467\tvalid_1's l1: 590.813\n",
      "[12300]\ttraining's l1: 500.497\tvalid_1's l1: 590.168\n",
      "[12600]\ttraining's l1: 498.06\tvalid_1's l1: 589.434\n",
      "[12900]\ttraining's l1: 496.04\tvalid_1's l1: 588.849\n",
      "[13200]\ttraining's l1: 494.023\tvalid_1's l1: 588.231\n",
      "[13500]\ttraining's l1: 492.257\tvalid_1's l1: 587.677\n",
      "[13800]\ttraining's l1: 490.564\tvalid_1's l1: 587.058\n",
      "[14100]\ttraining's l1: 489.186\tvalid_1's l1: 586.58\n",
      "[14400]\ttraining's l1: 487.775\tvalid_1's l1: 586.112\n",
      "[14700]\ttraining's l1: 486.243\tvalid_1's l1: 585.624\n",
      "[15000]\ttraining's l1: 484.757\tvalid_1's l1: 585.207\n",
      "[15300]\ttraining's l1: 483.244\tvalid_1's l1: 584.762\n",
      "[15600]\ttraining's l1: 481.837\tvalid_1's l1: 584.339\n",
      "[15900]\ttraining's l1: 480.575\tvalid_1's l1: 583.958\n",
      "[16200]\ttraining's l1: 479.242\tvalid_1's l1: 583.595\n",
      "[16500]\ttraining's l1: 477.879\tvalid_1's l1: 583.163\n",
      "[16800]\ttraining's l1: 476.515\tvalid_1's l1: 582.803\n",
      "[17100]\ttraining's l1: 475.242\tvalid_1's l1: 582.45\n",
      "[17400]\ttraining's l1: 473.947\tvalid_1's l1: 582.107\n",
      "[17700]\ttraining's l1: 472.694\tvalid_1's l1: 581.68\n",
      "[18000]\ttraining's l1: 471.545\tvalid_1's l1: 581.53\n",
      "[18300]\ttraining's l1: 470.332\tvalid_1's l1: 581.228\n",
      "[18600]\ttraining's l1: 469.295\tvalid_1's l1: 580.944\n",
      "[18900]\ttraining's l1: 468.264\tvalid_1's l1: 580.639\n",
      "[19200]\ttraining's l1: 467.145\tvalid_1's l1: 580.267\n",
      "[19500]\ttraining's l1: 466.08\tvalid_1's l1: 579.946\n",
      "[19800]\ttraining's l1: 464.892\tvalid_1's l1: 579.669\n",
      "[20100]\ttraining's l1: 463.926\tvalid_1's l1: 579.407\n",
      "[20400]\ttraining's l1: 462.885\tvalid_1's l1: 579.052\n",
      "[20700]\ttraining's l1: 461.836\tvalid_1's l1: 578.746\n",
      "[21000]\ttraining's l1: 460.696\tvalid_1's l1: 578.44\n",
      "[21300]\ttraining's l1: 459.823\tvalid_1's l1: 578.218\n",
      "[21600]\ttraining's l1: 458.997\tvalid_1's l1: 577.976\n",
      "[21900]\ttraining's l1: 458.138\tvalid_1's l1: 577.777\n",
      "[22200]\ttraining's l1: 457.209\tvalid_1's l1: 577.534\n",
      "[22500]\ttraining's l1: 456.332\tvalid_1's l1: 577.305\n",
      "[22800]\ttraining's l1: 455.304\tvalid_1's l1: 576.987\n",
      "[23100]\ttraining's l1: 454.537\tvalid_1's l1: 576.745\n",
      "[23400]\ttraining's l1: 453.692\tvalid_1's l1: 576.476\n",
      "[23700]\ttraining's l1: 452.677\tvalid_1's l1: 576.257\n",
      "[24000]\ttraining's l1: 451.693\tvalid_1's l1: 576.038\n",
      "[24300]\ttraining's l1: 450.861\tvalid_1's l1: 575.819\n",
      "[24600]\ttraining's l1: 450.018\tvalid_1's l1: 575.605\n",
      "[24900]\ttraining's l1: 449.112\tvalid_1's l1: 575.409\n",
      "[25200]\ttraining's l1: 448.178\tvalid_1's l1: 575.185\n",
      "[25500]\ttraining's l1: 447.35\tvalid_1's l1: 574.979\n",
      "[25800]\ttraining's l1: 446.353\tvalid_1's l1: 574.786\n",
      "[26100]\ttraining's l1: 445.528\tvalid_1's l1: 574.546\n",
      "[26400]\ttraining's l1: 444.665\tvalid_1's l1: 574.35\n",
      "[26700]\ttraining's l1: 444.009\tvalid_1's l1: 574.19\n",
      "[27000]\ttraining's l1: 443.414\tvalid_1's l1: 574.051\n",
      "[27300]\ttraining's l1: 442.858\tvalid_1's l1: 573.93\n",
      "[27600]\ttraining's l1: 442.323\tvalid_1's l1: 573.799\n",
      "[27900]\ttraining's l1: 441.642\tvalid_1's l1: 573.605\n",
      "[28200]\ttraining's l1: 440.909\tvalid_1's l1: 573.384\n",
      "[28500]\ttraining's l1: 440.18\tvalid_1's l1: 573.163\n",
      "[28800]\ttraining's l1: 439.468\tvalid_1's l1: 572.972\n",
      "[29100]\ttraining's l1: 438.701\tvalid_1's l1: 572.767\n",
      "[29400]\ttraining's l1: 437.943\tvalid_1's l1: 572.555\n",
      "[29700]\ttraining's l1: 437.285\tvalid_1's l1: 572.352\n",
      "[30000]\ttraining's l1: 436.613\tvalid_1's l1: 572.166\n",
      "[30300]\ttraining's l1: 435.963\tvalid_1's l1: 571.974\n",
      "[30600]\ttraining's l1: 435.264\tvalid_1's l1: 571.827\n",
      "[30900]\ttraining's l1: 434.579\tvalid_1's l1: 571.63\n",
      "[31200]\ttraining's l1: 434.044\tvalid_1's l1: 571.503\n",
      "[31500]\ttraining's l1: 433.489\tvalid_1's l1: 571.359\n",
      "[31800]\ttraining's l1: 432.749\tvalid_1's l1: 571.197\n",
      "[32100]\ttraining's l1: 432.052\tvalid_1's l1: 571.074\n",
      "[32400]\ttraining's l1: 431.409\tvalid_1's l1: 570.885\n",
      "[32700]\ttraining's l1: 430.742\tvalid_1's l1: 570.739\n",
      "[33000]\ttraining's l1: 430.14\tvalid_1's l1: 570.59\n",
      "[33300]\ttraining's l1: 429.451\tvalid_1's l1: 570.4\n",
      "[33600]\ttraining's l1: 428.858\tvalid_1's l1: 570.23\n",
      "[33900]\ttraining's l1: 428.177\tvalid_1's l1: 570.073\n",
      "[34200]\ttraining's l1: 427.641\tvalid_1's l1: 569.924\n",
      "[34500]\ttraining's l1: 427.066\tvalid_1's l1: 569.792\n",
      "[34800]\ttraining's l1: 426.483\tvalid_1's l1: 569.684\n",
      "[35100]\ttraining's l1: 425.871\tvalid_1's l1: 569.509\n",
      "[35400]\ttraining's l1: 425.277\tvalid_1's l1: 569.349\n",
      "[35700]\ttraining's l1: 424.739\tvalid_1's l1: 569.221\n",
      "[36000]\ttraining's l1: 424.209\tvalid_1's l1: 569.119\n",
      "[36300]\ttraining's l1: 423.682\tvalid_1's l1: 569.007\n",
      "[36600]\ttraining's l1: 423.154\tvalid_1's l1: 568.87\n",
      "[36900]\ttraining's l1: 422.563\tvalid_1's l1: 568.74\n",
      "[37200]\ttraining's l1: 422.138\tvalid_1's l1: 568.672\n",
      "[37500]\ttraining's l1: 421.491\tvalid_1's l1: 568.519\n",
      "[37800]\ttraining's l1: 420.843\tvalid_1's l1: 568.333\n",
      "[38100]\ttraining's l1: 420.179\tvalid_1's l1: 568.178\n",
      "[38400]\ttraining's l1: 419.554\tvalid_1's l1: 568.033\n",
      "[38700]\ttraining's l1: 418.93\tvalid_1's l1: 567.869\n",
      "[39000]\ttraining's l1: 418.271\tvalid_1's l1: 567.71\n",
      "[39300]\ttraining's l1: 417.727\tvalid_1's l1: 567.582\n",
      "[39600]\ttraining's l1: 417.226\tvalid_1's l1: 567.468\n",
      "[39900]\ttraining's l1: 416.664\tvalid_1's l1: 567.329\n",
      "[40200]\ttraining's l1: 416.106\tvalid_1's l1: 567.205\n",
      "[40500]\ttraining's l1: 415.633\tvalid_1's l1: 567.072\n",
      "[40800]\ttraining's l1: 415.16\tvalid_1's l1: 566.97\n",
      "[41100]\ttraining's l1: 414.679\tvalid_1's l1: 566.868\n",
      "[41400]\ttraining's l1: 414.204\tvalid_1's l1: 566.782\n",
      "[41700]\ttraining's l1: 413.728\tvalid_1's l1: 566.674\n",
      "[42000]\ttraining's l1: 413.288\tvalid_1's l1: 566.553\n",
      "[42300]\ttraining's l1: 412.749\tvalid_1's l1: 566.45\n",
      "[42600]\ttraining's l1: 412.361\tvalid_1's l1: 566.346\n",
      "[42900]\ttraining's l1: 411.974\tvalid_1's l1: 566.23\n",
      "[43200]\ttraining's l1: 411.489\tvalid_1's l1: 566.143\n",
      "[43500]\ttraining's l1: 410.901\tvalid_1's l1: 566.029\n"
     ]
    },
    {
     "name": "stdout",
     "output_type": "stream",
     "text": [
      "[43800]\ttraining's l1: 410.362\tvalid_1's l1: 565.941\n",
      "[44100]\ttraining's l1: 409.937\tvalid_1's l1: 565.852\n",
      "[44400]\ttraining's l1: 409.477\tvalid_1's l1: 565.735\n",
      "[44700]\ttraining's l1: 409.072\tvalid_1's l1: 565.629\n",
      "[45000]\ttraining's l1: 408.707\tvalid_1's l1: 565.557\n",
      "[45300]\ttraining's l1: 408.383\tvalid_1's l1: 565.496\n",
      "[45600]\ttraining's l1: 408.087\tvalid_1's l1: 565.44\n",
      "[45900]\ttraining's l1: 407.792\tvalid_1's l1: 565.367\n",
      "[46200]\ttraining's l1: 407.407\tvalid_1's l1: 565.283\n",
      "[46500]\ttraining's l1: 407.036\tvalid_1's l1: 565.195\n",
      "[46800]\ttraining's l1: 406.562\tvalid_1's l1: 565.101\n",
      "[47100]\ttraining's l1: 406.116\tvalid_1's l1: 565.013\n",
      "[47400]\ttraining's l1: 405.704\tvalid_1's l1: 564.943\n",
      "[47700]\ttraining's l1: 405.284\tvalid_1's l1: 564.896\n",
      "[48000]\ttraining's l1: 404.756\tvalid_1's l1: 564.766\n",
      "[48300]\ttraining's l1: 404.335\tvalid_1's l1: 564.661\n",
      "[48600]\ttraining's l1: 403.844\tvalid_1's l1: 564.571\n",
      "[48900]\ttraining's l1: 403.476\tvalid_1's l1: 564.492\n",
      "[49200]\ttraining's l1: 403.172\tvalid_1's l1: 564.423\n",
      "[49500]\ttraining's l1: 402.855\tvalid_1's l1: 564.363\n",
      "[49800]\ttraining's l1: 402.371\tvalid_1's l1: 564.282\n",
      "[50100]\ttraining's l1: 401.958\tvalid_1's l1: 564.22\n",
      "[50400]\ttraining's l1: 401.511\tvalid_1's l1: 564.142\n",
      "[50700]\ttraining's l1: 401.117\tvalid_1's l1: 564.061\n",
      "[51000]\ttraining's l1: 400.732\tvalid_1's l1: 563.963\n",
      "[51300]\ttraining's l1: 400.337\tvalid_1's l1: 563.872\n",
      "[51600]\ttraining's l1: 399.934\tvalid_1's l1: 563.766\n",
      "[51900]\ttraining's l1: 399.56\tvalid_1's l1: 563.68\n",
      "[52200]\ttraining's l1: 399.165\tvalid_1's l1: 563.605\n",
      "[52500]\ttraining's l1: 398.807\tvalid_1's l1: 563.542\n",
      "[52800]\ttraining's l1: 398.442\tvalid_1's l1: 563.464\n",
      "[53100]\ttraining's l1: 398.066\tvalid_1's l1: 563.412\n",
      "[53400]\ttraining's l1: 397.69\tvalid_1's l1: 563.326\n",
      "[53700]\ttraining's l1: 397.36\tvalid_1's l1: 563.275\n",
      "[54000]\ttraining's l1: 397.02\tvalid_1's l1: 563.196\n",
      "[54300]\ttraining's l1: 396.732\tvalid_1's l1: 563.146\n",
      "[54600]\ttraining's l1: 396.515\tvalid_1's l1: 563.108\n",
      "[54900]\ttraining's l1: 396.352\tvalid_1's l1: 563.09\n",
      "[55200]\ttraining's l1: 396.167\tvalid_1's l1: 563.05\n",
      "[55500]\ttraining's l1: 395.844\tvalid_1's l1: 562.987\n",
      "[55800]\ttraining's l1: 395.496\tvalid_1's l1: 562.911\n",
      "[56100]\ttraining's l1: 395.149\tvalid_1's l1: 562.838\n",
      "[56400]\ttraining's l1: 394.847\tvalid_1's l1: 562.793\n",
      "[56700]\ttraining's l1: 394.505\tvalid_1's l1: 562.718\n",
      "[57000]\ttraining's l1: 394.089\tvalid_1's l1: 562.653\n",
      "[57300]\ttraining's l1: 393.785\tvalid_1's l1: 562.594\n",
      "[57600]\ttraining's l1: 393.492\tvalid_1's l1: 562.527\n",
      "[57900]\ttraining's l1: 393.194\tvalid_1's l1: 562.465\n",
      "[58200]\ttraining's l1: 392.889\tvalid_1's l1: 562.391\n",
      "[58500]\ttraining's l1: 392.553\tvalid_1's l1: 562.326\n",
      "[58800]\ttraining's l1: 392.25\tvalid_1's l1: 562.278\n",
      "[59100]\ttraining's l1: 391.974\tvalid_1's l1: 562.232\n",
      "[59400]\ttraining's l1: 391.602\tvalid_1's l1: 562.14\n",
      "[59700]\ttraining's l1: 391.102\tvalid_1's l1: 562.067\n",
      "[60000]\ttraining's l1: 390.788\tvalid_1's l1: 562.025\n",
      "[60300]\ttraining's l1: 390.509\tvalid_1's l1: 561.965\n",
      "[60600]\ttraining's l1: 390.198\tvalid_1's l1: 561.909\n",
      "[60900]\ttraining's l1: 389.939\tvalid_1's l1: 561.854\n",
      "[61200]\ttraining's l1: 389.636\tvalid_1's l1: 561.811\n",
      "[61500]\ttraining's l1: 389.273\tvalid_1's l1: 561.736\n",
      "[61800]\ttraining's l1: 388.885\tvalid_1's l1: 561.673\n",
      "[62100]\ttraining's l1: 388.541\tvalid_1's l1: 561.617\n",
      "[62400]\ttraining's l1: 388.207\tvalid_1's l1: 561.556\n",
      "[62700]\ttraining's l1: 387.879\tvalid_1's l1: 561.519\n",
      "[63000]\ttraining's l1: 387.529\tvalid_1's l1: 561.466\n",
      "[63300]\ttraining's l1: 387.212\tvalid_1's l1: 561.393\n",
      "[63600]\ttraining's l1: 386.897\tvalid_1's l1: 561.307\n",
      "[63900]\ttraining's l1: 386.621\tvalid_1's l1: 561.263\n",
      "[64200]\ttraining's l1: 386.322\tvalid_1's l1: 561.22\n",
      "[64500]\ttraining's l1: 386.044\tvalid_1's l1: 561.173\n",
      "[64800]\ttraining's l1: 385.762\tvalid_1's l1: 561.114\n",
      "[65100]\ttraining's l1: 385.462\tvalid_1's l1: 561.062\n",
      "[65400]\ttraining's l1: 385.208\tvalid_1's l1: 561.031\n",
      "[65700]\ttraining's l1: 384.947\tvalid_1's l1: 560.974\n",
      "[66000]\ttraining's l1: 384.641\tvalid_1's l1: 560.904\n",
      "[66300]\ttraining's l1: 384.338\tvalid_1's l1: 560.841\n",
      "[66600]\ttraining's l1: 384.073\tvalid_1's l1: 560.802\n",
      "[66900]\ttraining's l1: 383.814\tvalid_1's l1: 560.762\n",
      "[67200]\ttraining's l1: 383.476\tvalid_1's l1: 560.742\n",
      "[67500]\ttraining's l1: 383.042\tvalid_1's l1: 560.678\n",
      "[67800]\ttraining's l1: 382.644\tvalid_1's l1: 560.621\n",
      "[68100]\ttraining's l1: 382.268\tvalid_1's l1: 560.561\n",
      "[68400]\ttraining's l1: 381.77\tvalid_1's l1: 560.498\n",
      "[68700]\ttraining's l1: 381.414\tvalid_1's l1: 560.461\n",
      "[69000]\ttraining's l1: 381.111\tvalid_1's l1: 560.403\n",
      "[69300]\ttraining's l1: 380.95\tvalid_1's l1: 560.39\n",
      "[69600]\ttraining's l1: 380.778\tvalid_1's l1: 560.368\n",
      "[69900]\ttraining's l1: 380.592\tvalid_1's l1: 560.349\n",
      "[70200]\ttraining's l1: 380.366\tvalid_1's l1: 560.32\n",
      "[70500]\ttraining's l1: 380.065\tvalid_1's l1: 560.254\n",
      "[70800]\ttraining's l1: 379.791\tvalid_1's l1: 560.181\n",
      "[71100]\ttraining's l1: 379.552\tvalid_1's l1: 560.142\n",
      "[71400]\ttraining's l1: 379.242\tvalid_1's l1: 560.084\n",
      "[71700]\ttraining's l1: 378.972\tvalid_1's l1: 560.054\n",
      "[72000]\ttraining's l1: 378.745\tvalid_1's l1: 560.007\n",
      "[72300]\ttraining's l1: 378.526\tvalid_1's l1: 559.975\n",
      "[72600]\ttraining's l1: 378.308\tvalid_1's l1: 559.936\n",
      "[72900]\ttraining's l1: 378.061\tvalid_1's l1: 559.91\n",
      "[73200]\ttraining's l1: 377.792\tvalid_1's l1: 559.867\n",
      "[73500]\ttraining's l1: 377.493\tvalid_1's l1: 559.821\n",
      "[73800]\ttraining's l1: 377.252\tvalid_1's l1: 559.786\n",
      "[74100]\ttraining's l1: 377.053\tvalid_1's l1: 559.765\n",
      "[74400]\ttraining's l1: 376.861\tvalid_1's l1: 559.751\n",
      "[74700]\ttraining's l1: 376.683\tvalid_1's l1: 559.725\n",
      "[75000]\ttraining's l1: 376.486\tvalid_1's l1: 559.718\n",
      "[75300]\ttraining's l1: 376.215\tvalid_1's l1: 559.661\n",
      "[75600]\ttraining's l1: 375.898\tvalid_1's l1: 559.605\n",
      "[75900]\ttraining's l1: 375.597\tvalid_1's l1: 559.555\n",
      "[76200]\ttraining's l1: 375.285\tvalid_1's l1: 559.519\n",
      "[76500]\ttraining's l1: 374.983\tvalid_1's l1: 559.479\n",
      "[76800]\ttraining's l1: 374.564\tvalid_1's l1: 559.425\n",
      "[77100]\ttraining's l1: 374.353\tvalid_1's l1: 559.391\n",
      "[77400]\ttraining's l1: 374.088\tvalid_1's l1: 559.346\n",
      "[77700]\ttraining's l1: 373.861\tvalid_1's l1: 559.319\n",
      "[78000]\ttraining's l1: 373.579\tvalid_1's l1: 559.262\n",
      "[78300]\ttraining's l1: 373.339\tvalid_1's l1: 559.225\n",
      "[78600]\ttraining's l1: 373.075\tvalid_1's l1: 559.175\n",
      "[78900]\ttraining's l1: 372.773\tvalid_1's l1: 559.125\n",
      "[79200]\ttraining's l1: 372.361\tvalid_1's l1: 559.042\n",
      "[79500]\ttraining's l1: 371.874\tvalid_1's l1: 559.004\n",
      "[79800]\ttraining's l1: 371.43\tvalid_1's l1: 558.958\n",
      "[80100]\ttraining's l1: 371.213\tvalid_1's l1: 558.924\n",
      "[80400]\ttraining's l1: 371.07\tvalid_1's l1: 558.911\n",
      "[80700]\ttraining's l1: 370.94\tvalid_1's l1: 558.897\n",
      "[81000]\ttraining's l1: 370.782\tvalid_1's l1: 558.88\n",
      "[81300]\ttraining's l1: 370.53\tvalid_1's l1: 558.869\n",
      "[81600]\ttraining's l1: 370.314\tvalid_1's l1: 558.836\n",
      "[81900]\ttraining's l1: 370.093\tvalid_1's l1: 558.81\n",
      "[82200]\ttraining's l1: 369.836\tvalid_1's l1: 558.768\n",
      "[82500]\ttraining's l1: 369.593\tvalid_1's l1: 558.747\n",
      "[82800]\ttraining's l1: 369.232\tvalid_1's l1: 558.679\n",
      "[83100]\ttraining's l1: 368.706\tvalid_1's l1: 558.616\n",
      "[83400]\ttraining's l1: 368.497\tvalid_1's l1: 558.592\n",
      "[83700]\ttraining's l1: 368.335\tvalid_1's l1: 558.575\n",
      "[84000]\ttraining's l1: 368.171\tvalid_1's l1: 558.553\n",
      "[84300]\ttraining's l1: 367.957\tvalid_1's l1: 558.519\n",
      "[84600]\ttraining's l1: 367.734\tvalid_1's l1: 558.49\n",
      "[84900]\ttraining's l1: 367.498\tvalid_1's l1: 558.456\n",
      "[85200]\ttraining's l1: 367.24\tvalid_1's l1: 558.423\n",
      "[85500]\ttraining's l1: 366.935\tvalid_1's l1: 558.423\n",
      "[85800]\ttraining's l1: 366.737\tvalid_1's l1: 558.407\n",
      "[86100]\ttraining's l1: 366.433\tvalid_1's l1: 558.39\n",
      "[86400]\ttraining's l1: 366.142\tvalid_1's l1: 558.37\n",
      "[86700]\ttraining's l1: 365.939\tvalid_1's l1: 558.321\n",
      "[87000]\ttraining's l1: 365.715\tvalid_1's l1: 558.313\n",
      "[87300]\ttraining's l1: 365.481\tvalid_1's l1: 558.282\n",
      "[87600]\ttraining's l1: 365.238\tvalid_1's l1: 558.258\n",
      "[87900]\ttraining's l1: 365.017\tvalid_1's l1: 558.225\n",
      "[88200]\ttraining's l1: 364.806\tvalid_1's l1: 558.208\n",
      "[88500]\ttraining's l1: 364.627\tvalid_1's l1: 558.194\n",
      "[88800]\ttraining's l1: 364.476\tvalid_1's l1: 558.155\n",
      "[89100]\ttraining's l1: 364.304\tvalid_1's l1: 558.142\n",
      "[89400]\ttraining's l1: 364.086\tvalid_1's l1: 558.11\n",
      "[89700]\ttraining's l1: 363.875\tvalid_1's l1: 558.086\n",
      "[90000]\ttraining's l1: 363.568\tvalid_1's l1: 558.046\n",
      "[90300]\ttraining's l1: 363.3\tvalid_1's l1: 558.018\n"
     ]
    },
    {
     "name": "stdout",
     "output_type": "stream",
     "text": [
      "[90600]\ttraining's l1: 363.113\tvalid_1's l1: 557.991\n",
      "[90900]\ttraining's l1: 362.924\tvalid_1's l1: 557.971\n",
      "[91200]\ttraining's l1: 362.734\tvalid_1's l1: 557.943\n",
      "[91500]\ttraining's l1: 362.517\tvalid_1's l1: 557.92\n",
      "[91800]\ttraining's l1: 362.29\tvalid_1's l1: 557.878\n",
      "[92100]\ttraining's l1: 361.949\tvalid_1's l1: 557.849\n",
      "[92400]\ttraining's l1: 361.753\tvalid_1's l1: 557.813\n",
      "[92700]\ttraining's l1: 361.559\tvalid_1's l1: 557.795\n",
      "[93000]\ttraining's l1: 361.34\tvalid_1's l1: 557.781\n",
      "[93300]\ttraining's l1: 361.148\tvalid_1's l1: 557.776\n",
      "[93600]\ttraining's l1: 360.956\tvalid_1's l1: 557.75\n",
      "[93900]\ttraining's l1: 360.513\tvalid_1's l1: 557.74\n",
      "[94200]\ttraining's l1: 360.18\tvalid_1's l1: 557.715\n",
      "[94500]\ttraining's l1: 359.727\tvalid_1's l1: 557.69\n",
      "[94800]\ttraining's l1: 359.524\tvalid_1's l1: 557.662\n",
      "[95100]\ttraining's l1: 359.283\tvalid_1's l1: 557.616\n",
      "[95400]\ttraining's l1: 359.08\tvalid_1's l1: 557.592\n",
      "[95700]\ttraining's l1: 358.888\tvalid_1's l1: 557.558\n",
      "[96000]\ttraining's l1: 358.642\tvalid_1's l1: 557.521\n",
      "[96300]\ttraining's l1: 358.466\tvalid_1's l1: 557.49\n",
      "[96600]\ttraining's l1: 358.338\tvalid_1's l1: 557.472\n",
      "[96900]\ttraining's l1: 358.166\tvalid_1's l1: 557.45\n",
      "[97200]\ttraining's l1: 357.924\tvalid_1's l1: 557.411\n",
      "[97500]\ttraining's l1: 357.634\tvalid_1's l1: 557.374\n",
      "[97800]\ttraining's l1: 357.447\tvalid_1's l1: 557.337\n",
      "[98100]\ttraining's l1: 357.228\tvalid_1's l1: 557.301\n",
      "[98400]\ttraining's l1: 357.002\tvalid_1's l1: 557.253\n",
      "[98700]\ttraining's l1: 356.798\tvalid_1's l1: 557.228\n",
      "[99000]\ttraining's l1: 356.614\tvalid_1's l1: 557.191\n",
      "[99300]\ttraining's l1: 356.41\tvalid_1's l1: 557.156\n",
      "[99600]\ttraining's l1: 356.212\tvalid_1's l1: 557.118\n",
      "[99900]\ttraining's l1: 356.019\tvalid_1's l1: 557.089\n",
      "[100200]\ttraining's l1: 355.796\tvalid_1's l1: 557.056\n",
      "[100500]\ttraining's l1: 355.619\tvalid_1's l1: 557.041\n",
      "[100800]\ttraining's l1: 355.461\tvalid_1's l1: 557.014\n",
      "[101100]\ttraining's l1: 355.277\tvalid_1's l1: 556.991\n",
      "[101400]\ttraining's l1: 355.11\tvalid_1's l1: 556.961\n",
      "[101700]\ttraining's l1: 354.946\tvalid_1's l1: 556.95\n",
      "[102000]\ttraining's l1: 354.724\tvalid_1's l1: 556.924\n",
      "[102300]\ttraining's l1: 354.537\tvalid_1's l1: 556.887\n",
      "[102600]\ttraining's l1: 354.338\tvalid_1's l1: 556.873\n",
      "[102900]\ttraining's l1: 354.117\tvalid_1's l1: 556.859\n",
      "[103200]\ttraining's l1: 353.928\tvalid_1's l1: 556.834\n",
      "[103500]\ttraining's l1: 353.578\tvalid_1's l1: 556.825\n",
      "[103800]\ttraining's l1: 353.036\tvalid_1's l1: 556.766\n",
      "[104100]\ttraining's l1: 352.453\tvalid_1's l1: 556.739\n",
      "[104400]\ttraining's l1: 351.617\tvalid_1's l1: 556.713\n",
      "[104700]\ttraining's l1: 351.287\tvalid_1's l1: 556.675\n",
      "[105000]\ttraining's l1: 351.091\tvalid_1's l1: 556.652\n",
      "[105300]\ttraining's l1: 350.908\tvalid_1's l1: 556.62\n",
      "[105600]\ttraining's l1: 350.721\tvalid_1's l1: 556.602\n",
      "[105900]\ttraining's l1: 350.524\tvalid_1's l1: 556.573\n",
      "[106200]\ttraining's l1: 350.363\tvalid_1's l1: 556.558\n",
      "[106500]\ttraining's l1: 350.201\tvalid_1's l1: 556.535\n",
      "[106800]\ttraining's l1: 350.027\tvalid_1's l1: 556.49\n",
      "[107100]\ttraining's l1: 349.869\tvalid_1's l1: 556.468\n",
      "[107400]\ttraining's l1: 349.707\tvalid_1's l1: 556.436\n",
      "[107700]\ttraining's l1: 349.507\tvalid_1's l1: 556.404\n",
      "[108000]\ttraining's l1: 349.372\tvalid_1's l1: 556.39\n",
      "[108300]\ttraining's l1: 349.26\tvalid_1's l1: 556.37\n",
      "[108600]\ttraining's l1: 349.073\tvalid_1's l1: 556.343\n",
      "[108900]\ttraining's l1: 348.905\tvalid_1's l1: 556.313\n",
      "[109200]\ttraining's l1: 348.761\tvalid_1's l1: 556.298\n",
      "[109500]\ttraining's l1: 348.645\tvalid_1's l1: 556.292\n",
      "[109800]\ttraining's l1: 348.503\tvalid_1's l1: 556.28\n",
      "[110100]\ttraining's l1: 348.327\tvalid_1's l1: 556.258\n",
      "[110400]\ttraining's l1: 348.119\tvalid_1's l1: 556.204\n",
      "[110700]\ttraining's l1: 347.808\tvalid_1's l1: 556.186\n",
      "[111000]\ttraining's l1: 347.591\tvalid_1's l1: 556.155\n",
      "[111300]\ttraining's l1: 347.382\tvalid_1's l1: 556.142\n",
      "[111600]\ttraining's l1: 347.245\tvalid_1's l1: 556.133\n",
      "[111900]\ttraining's l1: 347.12\tvalid_1's l1: 556.12\n",
      "[112200]\ttraining's l1: 346.978\tvalid_1's l1: 556.084\n",
      "[112500]\ttraining's l1: 346.831\tvalid_1's l1: 556.059\n",
      "[112800]\ttraining's l1: 346.666\tvalid_1's l1: 556.046\n",
      "[113100]\ttraining's l1: 346.515\tvalid_1's l1: 556.028\n",
      "[113400]\ttraining's l1: 346.365\tvalid_1's l1: 556.01\n",
      "[113700]\ttraining's l1: 346.196\tvalid_1's l1: 555.985\n",
      "[114000]\ttraining's l1: 346.001\tvalid_1's l1: 555.974\n",
      "[114300]\ttraining's l1: 345.857\tvalid_1's l1: 555.949\n",
      "[114600]\ttraining's l1: 345.737\tvalid_1's l1: 555.932\n",
      "[114900]\ttraining's l1: 345.585\tvalid_1's l1: 555.91\n",
      "[115200]\ttraining's l1: 345.44\tvalid_1's l1: 555.878\n",
      "[115500]\ttraining's l1: 345.301\tvalid_1's l1: 555.862\n",
      "[115800]\ttraining's l1: 345.158\tvalid_1's l1: 555.838\n",
      "[116100]\ttraining's l1: 345.009\tvalid_1's l1: 555.815\n",
      "[116400]\ttraining's l1: 344.871\tvalid_1's l1: 555.782\n",
      "[116700]\ttraining's l1: 344.722\tvalid_1's l1: 555.749\n",
      "[117000]\ttraining's l1: 344.576\tvalid_1's l1: 555.727\n",
      "[117300]\ttraining's l1: 344.425\tvalid_1's l1: 555.709\n",
      "[117600]\ttraining's l1: 344.285\tvalid_1's l1: 555.697\n",
      "[117900]\ttraining's l1: 344.097\tvalid_1's l1: 555.675\n",
      "[118200]\ttraining's l1: 343.904\tvalid_1's l1: 555.655\n",
      "[118500]\ttraining's l1: 343.752\tvalid_1's l1: 555.638\n",
      "[118800]\ttraining's l1: 343.509\tvalid_1's l1: 555.631\n",
      "[119100]\ttraining's l1: 343.319\tvalid_1's l1: 555.613\n",
      "[119400]\ttraining's l1: 343.055\tvalid_1's l1: 555.601\n",
      "[119700]\ttraining's l1: 342.879\tvalid_1's l1: 555.589\n",
      "[120000]\ttraining's l1: 342.722\tvalid_1's l1: 555.58\n",
      "[120300]\ttraining's l1: 342.523\tvalid_1's l1: 555.567\n",
      "[120600]\ttraining's l1: 342.354\tvalid_1's l1: 555.539\n",
      "[120900]\ttraining's l1: 342.179\tvalid_1's l1: 555.531\n",
      "[121200]\ttraining's l1: 341.948\tvalid_1's l1: 555.503\n",
      "[121500]\ttraining's l1: 341.786\tvalid_1's l1: 555.475\n",
      "[121800]\ttraining's l1: 341.65\tvalid_1's l1: 555.455\n",
      "[122100]\ttraining's l1: 341.513\tvalid_1's l1: 555.435\n",
      "[122400]\ttraining's l1: 341.352\tvalid_1's l1: 555.405\n",
      "[122700]\ttraining's l1: 341.184\tvalid_1's l1: 555.381\n",
      "[123000]\ttraining's l1: 341.057\tvalid_1's l1: 555.359\n",
      "[123300]\ttraining's l1: 340.917\tvalid_1's l1: 555.328\n",
      "[123600]\ttraining's l1: 340.781\tvalid_1's l1: 555.322\n",
      "[123900]\ttraining's l1: 340.616\tvalid_1's l1: 555.307\n",
      "[124200]\ttraining's l1: 340.47\tvalid_1's l1: 555.293\n",
      "[124500]\ttraining's l1: 340.321\tvalid_1's l1: 555.269\n",
      "[124800]\ttraining's l1: 340.184\tvalid_1's l1: 555.241\n",
      "[125100]\ttraining's l1: 340.02\tvalid_1's l1: 555.212\n",
      "[125400]\ttraining's l1: 339.897\tvalid_1's l1: 555.199\n",
      "[125700]\ttraining's l1: 339.752\tvalid_1's l1: 555.18\n",
      "[126000]\ttraining's l1: 339.61\tvalid_1's l1: 555.151\n",
      "[126300]\ttraining's l1: 339.449\tvalid_1's l1: 555.14\n",
      "[126600]\ttraining's l1: 339.284\tvalid_1's l1: 555.128\n",
      "[126900]\ttraining's l1: 339.132\tvalid_1's l1: 555.113\n",
      "[127200]\ttraining's l1: 338.997\tvalid_1's l1: 555.099\n",
      "[127500]\ttraining's l1: 338.844\tvalid_1's l1: 555.081\n",
      "[127800]\ttraining's l1: 338.716\tvalid_1's l1: 555.053\n",
      "[128100]\ttraining's l1: 338.577\tvalid_1's l1: 555.036\n",
      "[128400]\ttraining's l1: 338.447\tvalid_1's l1: 555.019\n",
      "[128700]\ttraining's l1: 338.284\tvalid_1's l1: 554.996\n",
      "[129000]\ttraining's l1: 338.169\tvalid_1's l1: 554.982\n",
      "[129300]\ttraining's l1: 338.05\tvalid_1's l1: 554.971\n",
      "[129600]\ttraining's l1: 337.904\tvalid_1's l1: 554.961\n",
      "[129900]\ttraining's l1: 337.598\tvalid_1's l1: 554.966\n",
      "[130200]\ttraining's l1: 337.231\tvalid_1's l1: 554.968\n",
      "[130500]\ttraining's l1: 337.015\tvalid_1's l1: 554.962\n",
      "[130800]\ttraining's l1: 336.831\tvalid_1's l1: 554.934\n",
      "[131100]\ttraining's l1: 336.584\tvalid_1's l1: 554.913\n",
      "[131400]\ttraining's l1: 336.265\tvalid_1's l1: 554.883\n",
      "[131700]\ttraining's l1: 336.007\tvalid_1's l1: 554.852\n",
      "[132000]\ttraining's l1: 335.778\tvalid_1's l1: 554.831\n",
      "[132300]\ttraining's l1: 335.567\tvalid_1's l1: 554.797\n",
      "[132600]\ttraining's l1: 335.329\tvalid_1's l1: 554.777\n",
      "[132900]\ttraining's l1: 335.112\tvalid_1's l1: 554.749\n",
      "[133200]\ttraining's l1: 335.024\tvalid_1's l1: 554.732\n",
      "[133500]\ttraining's l1: 334.941\tvalid_1's l1: 554.716\n",
      "[133800]\ttraining's l1: 334.877\tvalid_1's l1: 554.705\n",
      "[134100]\ttraining's l1: 334.809\tvalid_1's l1: 554.694\n",
      "[134400]\ttraining's l1: 334.728\tvalid_1's l1: 554.681\n",
      "[134700]\ttraining's l1: 334.627\tvalid_1's l1: 554.673\n",
      "[135000]\ttraining's l1: 334.561\tvalid_1's l1: 554.662\n",
      "[135300]\ttraining's l1: 334.481\tvalid_1's l1: 554.652\n",
      "[135600]\ttraining's l1: 334.396\tvalid_1's l1: 554.638\n",
      "[135900]\ttraining's l1: 334.296\tvalid_1's l1: 554.628\n",
      "[136200]\ttraining's l1: 334.188\tvalid_1's l1: 554.603\n"
     ]
    },
    {
     "name": "stdout",
     "output_type": "stream",
     "text": [
      "[136500]\ttraining's l1: 334.084\tvalid_1's l1: 554.576\n",
      "[136800]\ttraining's l1: 333.954\tvalid_1's l1: 554.554\n",
      "[137100]\ttraining's l1: 333.844\tvalid_1's l1: 554.533\n",
      "[137400]\ttraining's l1: 333.744\tvalid_1's l1: 554.516\n",
      "[137700]\ttraining's l1: 333.636\tvalid_1's l1: 554.495\n",
      "[138000]\ttraining's l1: 333.511\tvalid_1's l1: 554.469\n",
      "[138300]\ttraining's l1: 333.408\tvalid_1's l1: 554.455\n",
      "[138600]\ttraining's l1: 333.284\tvalid_1's l1: 554.435\n",
      "[138900]\ttraining's l1: 333.151\tvalid_1's l1: 554.421\n",
      "[139200]\ttraining's l1: 333.033\tvalid_1's l1: 554.397\n",
      "[139500]\ttraining's l1: 332.912\tvalid_1's l1: 554.382\n",
      "[139800]\ttraining's l1: 332.766\tvalid_1's l1: 554.371\n",
      "[140100]\ttraining's l1: 332.64\tvalid_1's l1: 554.369\n",
      "[140400]\ttraining's l1: 332.514\tvalid_1's l1: 554.356\n",
      "[140700]\ttraining's l1: 332.391\tvalid_1's l1: 554.33\n",
      "[141000]\ttraining's l1: 332.267\tvalid_1's l1: 554.311\n",
      "[141300]\ttraining's l1: 332.137\tvalid_1's l1: 554.294\n",
      "[141600]\ttraining's l1: 332.031\tvalid_1's l1: 554.278\n",
      "[141900]\ttraining's l1: 331.928\tvalid_1's l1: 554.269\n",
      "[142200]\ttraining's l1: 331.801\tvalid_1's l1: 554.254\n",
      "[142500]\ttraining's l1: 331.686\tvalid_1's l1: 554.234\n",
      "[142800]\ttraining's l1: 331.546\tvalid_1's l1: 554.212\n",
      "[143100]\ttraining's l1: 331.398\tvalid_1's l1: 554.196\n",
      "[143400]\ttraining's l1: 331.261\tvalid_1's l1: 554.175\n",
      "[143700]\ttraining's l1: 331.172\tvalid_1's l1: 554.167\n",
      "[144000]\ttraining's l1: 331.053\tvalid_1's l1: 554.159\n",
      "[144300]\ttraining's l1: 330.926\tvalid_1's l1: 554.151\n",
      "[144600]\ttraining's l1: 330.817\tvalid_1's l1: 554.141\n",
      "[144900]\ttraining's l1: 330.714\tvalid_1's l1: 554.126\n",
      "[145200]\ttraining's l1: 330.592\tvalid_1's l1: 554.104\n",
      "[145500]\ttraining's l1: 330.475\tvalid_1's l1: 554.085\n",
      "[145800]\ttraining's l1: 330.322\tvalid_1's l1: 554.081\n",
      "[146100]\ttraining's l1: 330.223\tvalid_1's l1: 554.071\n",
      "[146400]\ttraining's l1: 330.118\tvalid_1's l1: 554.059\n",
      "[146700]\ttraining's l1: 329.998\tvalid_1's l1: 554.038\n",
      "[147000]\ttraining's l1: 329.884\tvalid_1's l1: 554.02\n",
      "[147300]\ttraining's l1: 329.769\tvalid_1's l1: 554\n",
      "[147600]\ttraining's l1: 329.677\tvalid_1's l1: 553.988\n",
      "[147900]\ttraining's l1: 329.57\tvalid_1's l1: 553.977\n",
      "[148200]\ttraining's l1: 329.478\tvalid_1's l1: 553.955\n",
      "[148500]\ttraining's l1: 329.381\tvalid_1's l1: 553.936\n",
      "[148800]\ttraining's l1: 329.27\tvalid_1's l1: 553.919\n",
      "[149100]\ttraining's l1: 329.157\tvalid_1's l1: 553.903\n",
      "[149400]\ttraining's l1: 329.037\tvalid_1's l1: 553.891\n",
      "[149700]\ttraining's l1: 328.923\tvalid_1's l1: 553.872\n",
      "[150000]\ttraining's l1: 328.796\tvalid_1's l1: 553.854\n",
      "[150300]\ttraining's l1: 328.684\tvalid_1's l1: 553.836\n",
      "[150600]\ttraining's l1: 328.571\tvalid_1's l1: 553.825\n",
      "[150900]\ttraining's l1: 328.459\tvalid_1's l1: 553.81\n",
      "[151200]\ttraining's l1: 328.373\tvalid_1's l1: 553.8\n",
      "[151500]\ttraining's l1: 328.262\tvalid_1's l1: 553.803\n",
      "[151800]\ttraining's l1: 328.131\tvalid_1's l1: 553.793\n",
      "[152100]\ttraining's l1: 328.018\tvalid_1's l1: 553.789\n",
      "[152400]\ttraining's l1: 327.908\tvalid_1's l1: 553.774\n",
      "[152700]\ttraining's l1: 327.801\tvalid_1's l1: 553.767\n",
      "[153000]\ttraining's l1: 327.681\tvalid_1's l1: 553.758\n",
      "[153300]\ttraining's l1: 327.571\tvalid_1's l1: 553.752\n",
      "[153600]\ttraining's l1: 327.439\tvalid_1's l1: 553.746\n",
      "[153900]\ttraining's l1: 327.319\tvalid_1's l1: 553.729\n",
      "[154200]\ttraining's l1: 327.221\tvalid_1's l1: 553.715\n",
      "[154500]\ttraining's l1: 327.117\tvalid_1's l1: 553.707\n",
      "[154800]\ttraining's l1: 327.014\tvalid_1's l1: 553.683\n",
      "[155100]\ttraining's l1: 326.894\tvalid_1's l1: 553.666\n",
      "[155400]\ttraining's l1: 326.779\tvalid_1's l1: 553.642\n",
      "[155700]\ttraining's l1: 326.664\tvalid_1's l1: 553.625\n",
      "[156000]\ttraining's l1: 326.571\tvalid_1's l1: 553.617\n",
      "[156300]\ttraining's l1: 326.46\tvalid_1's l1: 553.613\n",
      "[156600]\ttraining's l1: 326.362\tvalid_1's l1: 553.602\n",
      "[156900]\ttraining's l1: 326.25\tvalid_1's l1: 553.584\n",
      "[157200]\ttraining's l1: 326.159\tvalid_1's l1: 553.576\n",
      "[157500]\ttraining's l1: 326.069\tvalid_1's l1: 553.566\n",
      "[157800]\ttraining's l1: 325.955\tvalid_1's l1: 553.559\n",
      "[158100]\ttraining's l1: 325.846\tvalid_1's l1: 553.542\n",
      "[158400]\ttraining's l1: 325.754\tvalid_1's l1: 553.527\n",
      "[158700]\ttraining's l1: 325.664\tvalid_1's l1: 553.518\n",
      "[159000]\ttraining's l1: 325.582\tvalid_1's l1: 553.504\n",
      "[159300]\ttraining's l1: 325.444\tvalid_1's l1: 553.488\n",
      "[159600]\ttraining's l1: 325.314\tvalid_1's l1: 553.481\n",
      "[159900]\ttraining's l1: 325.149\tvalid_1's l1: 553.471\n",
      "[160200]\ttraining's l1: 324.903\tvalid_1's l1: 553.46\n",
      "[160500]\ttraining's l1: 324.64\tvalid_1's l1: 553.451\n",
      "[160800]\ttraining's l1: 324.52\tvalid_1's l1: 553.437\n",
      "[161100]\ttraining's l1: 324.428\tvalid_1's l1: 553.416\n",
      "[161400]\ttraining's l1: 324.331\tvalid_1's l1: 553.409\n",
      "[161700]\ttraining's l1: 324.158\tvalid_1's l1: 553.399\n",
      "[162000]\ttraining's l1: 323.989\tvalid_1's l1: 553.367\n",
      "[162300]\ttraining's l1: 323.872\tvalid_1's l1: 553.351\n",
      "[162600]\ttraining's l1: 323.827\tvalid_1's l1: 553.351\n",
      "[162900]\ttraining's l1: 323.785\tvalid_1's l1: 553.35\n",
      "[163200]\ttraining's l1: 323.736\tvalid_1's l1: 553.343\n",
      "[163500]\ttraining's l1: 323.634\tvalid_1's l1: 553.327\n",
      "[163800]\ttraining's l1: 323.519\tvalid_1's l1: 553.323\n",
      "[164100]\ttraining's l1: 323.428\tvalid_1's l1: 553.312\n",
      "[164400]\ttraining's l1: 323.313\tvalid_1's l1: 553.303\n",
      "[164700]\ttraining's l1: 323.194\tvalid_1's l1: 553.292\n",
      "[165000]\ttraining's l1: 323.035\tvalid_1's l1: 553.276\n",
      "[165300]\ttraining's l1: 322.898\tvalid_1's l1: 553.259\n",
      "[165600]\ttraining's l1: 322.788\tvalid_1's l1: 553.233\n",
      "[165900]\ttraining's l1: 322.693\tvalid_1's l1: 553.207\n",
      "[166200]\ttraining's l1: 322.608\tvalid_1's l1: 553.197\n",
      "[166500]\ttraining's l1: 322.521\tvalid_1's l1: 553.18\n",
      "[166800]\ttraining's l1: 322.426\tvalid_1's l1: 553.169\n",
      "[167100]\ttraining's l1: 322.334\tvalid_1's l1: 553.153\n",
      "[167400]\ttraining's l1: 322.237\tvalid_1's l1: 553.137\n",
      "[167700]\ttraining's l1: 322.139\tvalid_1's l1: 553.129\n",
      "[168000]\ttraining's l1: 322.048\tvalid_1's l1: 553.121\n",
      "[168300]\ttraining's l1: 321.944\tvalid_1's l1: 553.115\n",
      "[168600]\ttraining's l1: 321.816\tvalid_1's l1: 553.098\n",
      "[168900]\ttraining's l1: 321.739\tvalid_1's l1: 553.08\n",
      "[169200]\ttraining's l1: 321.634\tvalid_1's l1: 553.05\n",
      "[169500]\ttraining's l1: 321.514\tvalid_1's l1: 553.044\n",
      "[169800]\ttraining's l1: 321.416\tvalid_1's l1: 553.025\n",
      "[170100]\ttraining's l1: 321.322\tvalid_1's l1: 553.014\n",
      "[170400]\ttraining's l1: 321.243\tvalid_1's l1: 553.009\n",
      "[170700]\ttraining's l1: 321.154\tvalid_1's l1: 553\n",
      "[171000]\ttraining's l1: 321.011\tvalid_1's l1: 552.996\n",
      "[171300]\ttraining's l1: 320.901\tvalid_1's l1: 552.968\n",
      "[171600]\ttraining's l1: 320.816\tvalid_1's l1: 552.96\n",
      "[171900]\ttraining's l1: 320.714\tvalid_1's l1: 552.946\n",
      "[172200]\ttraining's l1: 320.612\tvalid_1's l1: 552.919\n",
      "[172500]\ttraining's l1: 320.5\tvalid_1's l1: 552.907\n",
      "[172800]\ttraining's l1: 320.369\tvalid_1's l1: 552.901\n",
      "[173100]\ttraining's l1: 320.286\tvalid_1's l1: 552.894\n",
      "[173400]\ttraining's l1: 320.237\tvalid_1's l1: 552.885\n",
      "[173700]\ttraining's l1: 320.196\tvalid_1's l1: 552.882\n",
      "[174000]\ttraining's l1: 320.137\tvalid_1's l1: 552.874\n",
      "[174300]\ttraining's l1: 320.037\tvalid_1's l1: 552.858\n",
      "[174600]\ttraining's l1: 319.955\tvalid_1's l1: 552.851\n",
      "[174900]\ttraining's l1: 319.874\tvalid_1's l1: 552.842\n",
      "[175200]\ttraining's l1: 319.777\tvalid_1's l1: 552.822\n",
      "[175500]\ttraining's l1: 319.674\tvalid_1's l1: 552.816\n",
      "[175800]\ttraining's l1: 319.591\tvalid_1's l1: 552.792\n",
      "[176100]\ttraining's l1: 319.496\tvalid_1's l1: 552.785\n",
      "[176400]\ttraining's l1: 319.42\tvalid_1's l1: 552.775\n",
      "[176700]\ttraining's l1: 319.314\tvalid_1's l1: 552.762\n",
      "[177000]\ttraining's l1: 319.163\tvalid_1's l1: 552.741\n",
      "[177300]\ttraining's l1: 319.089\tvalid_1's l1: 552.729\n",
      "[177600]\ttraining's l1: 319.017\tvalid_1's l1: 552.708\n",
      "[177900]\ttraining's l1: 318.911\tvalid_1's l1: 552.702\n",
      "[178200]\ttraining's l1: 318.809\tvalid_1's l1: 552.693\n",
      "[178500]\ttraining's l1: 318.716\tvalid_1's l1: 552.662\n",
      "[178800]\ttraining's l1: 318.574\tvalid_1's l1: 552.645\n",
      "[179100]\ttraining's l1: 318.423\tvalid_1's l1: 552.619\n",
      "[179400]\ttraining's l1: 318.309\tvalid_1's l1: 552.624\n",
      "[179700]\ttraining's l1: 318.207\tvalid_1's l1: 552.624\n",
      "[180000]\ttraining's l1: 318.1\tvalid_1's l1: 552.615\n",
      "[180300]\ttraining's l1: 318\tvalid_1's l1: 552.604\n",
      "[180600]\ttraining's l1: 317.884\tvalid_1's l1: 552.592\n",
      "[180900]\ttraining's l1: 317.782\tvalid_1's l1: 552.585\n",
      "[181200]\ttraining's l1: 317.699\tvalid_1's l1: 552.574\n",
      "[181500]\ttraining's l1: 317.62\tvalid_1's l1: 552.556\n",
      "[181800]\ttraining's l1: 317.525\tvalid_1's l1: 552.541\n",
      "[182100]\ttraining's l1: 317.443\tvalid_1's l1: 552.53\n"
     ]
    },
    {
     "name": "stdout",
     "output_type": "stream",
     "text": [
      "[182400]\ttraining's l1: 317.349\tvalid_1's l1: 552.516\n",
      "[182700]\ttraining's l1: 317.248\tvalid_1's l1: 552.505\n",
      "[183000]\ttraining's l1: 317.137\tvalid_1's l1: 552.495\n",
      "[183300]\ttraining's l1: 317.049\tvalid_1's l1: 552.483\n",
      "[183600]\ttraining's l1: 316.968\tvalid_1's l1: 552.472\n",
      "[183900]\ttraining's l1: 316.899\tvalid_1's l1: 552.474\n",
      "[184200]\ttraining's l1: 316.831\tvalid_1's l1: 552.469\n",
      "[184500]\ttraining's l1: 316.761\tvalid_1's l1: 552.45\n",
      "[184800]\ttraining's l1: 316.694\tvalid_1's l1: 552.44\n",
      "[185100]\ttraining's l1: 316.608\tvalid_1's l1: 552.44\n",
      "[185400]\ttraining's l1: 316.515\tvalid_1's l1: 552.437\n",
      "[185700]\ttraining's l1: 316.433\tvalid_1's l1: 552.43\n",
      "[186000]\ttraining's l1: 316.364\tvalid_1's l1: 552.417\n",
      "[186300]\ttraining's l1: 316.296\tvalid_1's l1: 552.408\n",
      "[186600]\ttraining's l1: 316.222\tvalid_1's l1: 552.401\n",
      "[186900]\ttraining's l1: 316.138\tvalid_1's l1: 552.397\n",
      "[187200]\ttraining's l1: 316.052\tvalid_1's l1: 552.397\n",
      "[187500]\ttraining's l1: 315.95\tvalid_1's l1: 552.379\n",
      "[187800]\ttraining's l1: 315.82\tvalid_1's l1: 552.367\n",
      "[188100]\ttraining's l1: 315.737\tvalid_1's l1: 552.347\n",
      "[188400]\ttraining's l1: 315.643\tvalid_1's l1: 552.337\n",
      "[188700]\ttraining's l1: 315.5\tvalid_1's l1: 552.333\n",
      "[189000]\ttraining's l1: 315.387\tvalid_1's l1: 552.337\n",
      "[189300]\ttraining's l1: 315.279\tvalid_1's l1: 552.322\n",
      "[189600]\ttraining's l1: 315.173\tvalid_1's l1: 552.314\n",
      "[189900]\ttraining's l1: 315.086\tvalid_1's l1: 552.306\n",
      "[190200]\ttraining's l1: 315.008\tvalid_1's l1: 552.287\n",
      "[190500]\ttraining's l1: 314.925\tvalid_1's l1: 552.279\n",
      "[190800]\ttraining's l1: 314.842\tvalid_1's l1: 552.27\n",
      "[191100]\ttraining's l1: 314.781\tvalid_1's l1: 552.257\n",
      "[191400]\ttraining's l1: 314.699\tvalid_1's l1: 552.254\n",
      "[191700]\ttraining's l1: 314.616\tvalid_1's l1: 552.244\n",
      "[192000]\ttraining's l1: 314.539\tvalid_1's l1: 552.235\n",
      "[192300]\ttraining's l1: 314.461\tvalid_1's l1: 552.221\n",
      "[192600]\ttraining's l1: 314.387\tvalid_1's l1: 552.207\n",
      "[192900]\ttraining's l1: 314.291\tvalid_1's l1: 552.207\n",
      "[193200]\ttraining's l1: 314.21\tvalid_1's l1: 552.198\n",
      "[193500]\ttraining's l1: 314.129\tvalid_1's l1: 552.19\n",
      "[193800]\ttraining's l1: 314.05\tvalid_1's l1: 552.179\n",
      "[194100]\ttraining's l1: 313.97\tvalid_1's l1: 552.17\n",
      "[194400]\ttraining's l1: 313.872\tvalid_1's l1: 552.164\n",
      "[194700]\ttraining's l1: 313.766\tvalid_1's l1: 552.161\n",
      "[195000]\ttraining's l1: 313.655\tvalid_1's l1: 552.148\n",
      "[195300]\ttraining's l1: 313.556\tvalid_1's l1: 552.14\n",
      "[195600]\ttraining's l1: 313.426\tvalid_1's l1: 552.127\n",
      "[195900]\ttraining's l1: 313.297\tvalid_1's l1: 552.124\n",
      "[196200]\ttraining's l1: 313.156\tvalid_1's l1: 552.111\n",
      "[196500]\ttraining's l1: 313.016\tvalid_1's l1: 552.107\n",
      "[196800]\ttraining's l1: 312.918\tvalid_1's l1: 552.088\n",
      "[197100]\ttraining's l1: 312.806\tvalid_1's l1: 552.085\n",
      "[197400]\ttraining's l1: 312.715\tvalid_1's l1: 552.079\n",
      "[197700]\ttraining's l1: 312.633\tvalid_1's l1: 552.07\n",
      "[198000]\ttraining's l1: 312.563\tvalid_1's l1: 552.058\n",
      "[198300]\ttraining's l1: 312.494\tvalid_1's l1: 552.05\n",
      "[198600]\ttraining's l1: 312.43\tvalid_1's l1: 552.036\n",
      "[198900]\ttraining's l1: 312.334\tvalid_1's l1: 552.027\n",
      "[199200]\ttraining's l1: 312.236\tvalid_1's l1: 552.019\n",
      "[199500]\ttraining's l1: 312.146\tvalid_1's l1: 551.993\n",
      "[199800]\ttraining's l1: 312.078\tvalid_1's l1: 551.993\n",
      "[200100]\ttraining's l1: 312.006\tvalid_1's l1: 551.984\n",
      "[200400]\ttraining's l1: 311.934\tvalid_1's l1: 551.961\n",
      "[200700]\ttraining's l1: 311.86\tvalid_1's l1: 551.955\n",
      "[201000]\ttraining's l1: 311.774\tvalid_1's l1: 551.949\n",
      "[201300]\ttraining's l1: 311.707\tvalid_1's l1: 551.944\n",
      "[201600]\ttraining's l1: 311.639\tvalid_1's l1: 551.926\n",
      "[201900]\ttraining's l1: 311.554\tvalid_1's l1: 551.917\n",
      "[202200]\ttraining's l1: 311.471\tvalid_1's l1: 551.902\n",
      "[202500]\ttraining's l1: 311.38\tvalid_1's l1: 551.898\n",
      "[202800]\ttraining's l1: 311.299\tvalid_1's l1: 551.889\n",
      "[203100]\ttraining's l1: 311.22\tvalid_1's l1: 551.875\n",
      "[203400]\ttraining's l1: 311.145\tvalid_1's l1: 551.862\n",
      "[203700]\ttraining's l1: 311.086\tvalid_1's l1: 551.855\n",
      "[204000]\ttraining's l1: 311.022\tvalid_1's l1: 551.849\n",
      "[204300]\ttraining's l1: 310.943\tvalid_1's l1: 551.845\n",
      "[204600]\ttraining's l1: 310.85\tvalid_1's l1: 551.83\n",
      "[204900]\ttraining's l1: 310.772\tvalid_1's l1: 551.822\n",
      "[205200]\ttraining's l1: 310.677\tvalid_1's l1: 551.811\n",
      "[205500]\ttraining's l1: 310.585\tvalid_1's l1: 551.808\n",
      "[205800]\ttraining's l1: 310.507\tvalid_1's l1: 551.809\n",
      "[206100]\ttraining's l1: 310.43\tvalid_1's l1: 551.796\n",
      "[206400]\ttraining's l1: 310.36\tvalid_1's l1: 551.779\n",
      "[206700]\ttraining's l1: 310.279\tvalid_1's l1: 551.766\n",
      "[207000]\ttraining's l1: 310.202\tvalid_1's l1: 551.754\n",
      "[207300]\ttraining's l1: 310.144\tvalid_1's l1: 551.745\n",
      "[207600]\ttraining's l1: 310.078\tvalid_1's l1: 551.742\n",
      "[207900]\ttraining's l1: 310.003\tvalid_1's l1: 551.731\n",
      "[208200]\ttraining's l1: 309.906\tvalid_1's l1: 551.716\n",
      "[208500]\ttraining's l1: 309.837\tvalid_1's l1: 551.713\n",
      "[208800]\ttraining's l1: 309.765\tvalid_1's l1: 551.695\n",
      "[209100]\ttraining's l1: 309.672\tvalid_1's l1: 551.68\n",
      "[209400]\ttraining's l1: 309.594\tvalid_1's l1: 551.673\n",
      "[209700]\ttraining's l1: 309.517\tvalid_1's l1: 551.664\n",
      "[210000]\ttraining's l1: 309.429\tvalid_1's l1: 551.652\n",
      "[210300]\ttraining's l1: 309.354\tvalid_1's l1: 551.641\n",
      "[210600]\ttraining's l1: 309.255\tvalid_1's l1: 551.627\n",
      "[210900]\ttraining's l1: 309.109\tvalid_1's l1: 551.612\n",
      "[211200]\ttraining's l1: 308.995\tvalid_1's l1: 551.604\n",
      "[211500]\ttraining's l1: 308.903\tvalid_1's l1: 551.598\n",
      "[211800]\ttraining's l1: 308.832\tvalid_1's l1: 551.594\n",
      "[212100]\ttraining's l1: 308.764\tvalid_1's l1: 551.588\n",
      "[212400]\ttraining's l1: 308.695\tvalid_1's l1: 551.572\n",
      "[212700]\ttraining's l1: 308.633\tvalid_1's l1: 551.565\n",
      "[213000]\ttraining's l1: 308.521\tvalid_1's l1: 551.578\n",
      "[213300]\ttraining's l1: 308.44\tvalid_1's l1: 551.563\n",
      "[213600]\ttraining's l1: 308.371\tvalid_1's l1: 551.557\n",
      "[213900]\ttraining's l1: 308.302\tvalid_1's l1: 551.551\n",
      "[214200]\ttraining's l1: 308.227\tvalid_1's l1: 551.545\n",
      "[214500]\ttraining's l1: 308.163\tvalid_1's l1: 551.538\n",
      "[214800]\ttraining's l1: 308.082\tvalid_1's l1: 551.53\n",
      "[215100]\ttraining's l1: 307.997\tvalid_1's l1: 551.528\n",
      "[215400]\ttraining's l1: 307.908\tvalid_1's l1: 551.514\n",
      "[215700]\ttraining's l1: 307.834\tvalid_1's l1: 551.51\n",
      "[216000]\ttraining's l1: 307.756\tvalid_1's l1: 551.511\n",
      "[216300]\ttraining's l1: 307.667\tvalid_1's l1: 551.494\n",
      "[216600]\ttraining's l1: 307.583\tvalid_1's l1: 551.49\n",
      "[216900]\ttraining's l1: 307.514\tvalid_1's l1: 551.479\n",
      "[217200]\ttraining's l1: 307.431\tvalid_1's l1: 551.467\n",
      "[217500]\ttraining's l1: 307.362\tvalid_1's l1: 551.46\n",
      "[217800]\ttraining's l1: 307.295\tvalid_1's l1: 551.449\n",
      "[218100]\ttraining's l1: 307.218\tvalid_1's l1: 551.439\n",
      "[218400]\ttraining's l1: 307.15\tvalid_1's l1: 551.428\n",
      "[218700]\ttraining's l1: 307.069\tvalid_1's l1: 551.416\n",
      "[219000]\ttraining's l1: 306.986\tvalid_1's l1: 551.408\n",
      "[219300]\ttraining's l1: 306.891\tvalid_1's l1: 551.401\n",
      "[219600]\ttraining's l1: 306.821\tvalid_1's l1: 551.392\n",
      "[219900]\ttraining's l1: 306.747\tvalid_1's l1: 551.389\n",
      "[220200]\ttraining's l1: 306.66\tvalid_1's l1: 551.382\n",
      "[220500]\ttraining's l1: 306.587\tvalid_1's l1: 551.371\n",
      "[220800]\ttraining's l1: 306.503\tvalid_1's l1: 551.356\n",
      "[221100]\ttraining's l1: 306.426\tvalid_1's l1: 551.345\n",
      "[221400]\ttraining's l1: 306.356\tvalid_1's l1: 551.336\n",
      "[221700]\ttraining's l1: 306.295\tvalid_1's l1: 551.327\n",
      "[222000]\ttraining's l1: 306.222\tvalid_1's l1: 551.322\n",
      "[222300]\ttraining's l1: 306.116\tvalid_1's l1: 551.305\n",
      "[222600]\ttraining's l1: 306.034\tvalid_1's l1: 551.292\n",
      "[222900]\ttraining's l1: 305.95\tvalid_1's l1: 551.283\n",
      "[223200]\ttraining's l1: 305.876\tvalid_1's l1: 551.276\n",
      "[223500]\ttraining's l1: 305.812\tvalid_1's l1: 551.264\n",
      "[223800]\ttraining's l1: 305.737\tvalid_1's l1: 551.262\n",
      "[224100]\ttraining's l1: 305.664\tvalid_1's l1: 551.254\n",
      "[224400]\ttraining's l1: 305.596\tvalid_1's l1: 551.244\n",
      "[224700]\ttraining's l1: 305.535\tvalid_1's l1: 551.233\n",
      "[225000]\ttraining's l1: 305.464\tvalid_1's l1: 551.223\n",
      "[225300]\ttraining's l1: 305.39\tvalid_1's l1: 551.218\n",
      "[225600]\ttraining's l1: 305.305\tvalid_1's l1: 551.199\n",
      "[225900]\ttraining's l1: 305.201\tvalid_1's l1: 551.193\n",
      "[226200]\ttraining's l1: 305.124\tvalid_1's l1: 551.182\n",
      "[226500]\ttraining's l1: 305.06\tvalid_1's l1: 551.17\n",
      "[226800]\ttraining's l1: 305.007\tvalid_1's l1: 551.161\n",
      "[227100]\ttraining's l1: 304.944\tvalid_1's l1: 551.156\n",
      "[227400]\ttraining's l1: 304.878\tvalid_1's l1: 551.15\n",
      "[227700]\ttraining's l1: 304.799\tvalid_1's l1: 551.147\n",
      "[228000]\ttraining's l1: 304.717\tvalid_1's l1: 551.133\n"
     ]
    },
    {
     "name": "stdout",
     "output_type": "stream",
     "text": [
      "[228300]\ttraining's l1: 304.651\tvalid_1's l1: 551.124\n",
      "[228600]\ttraining's l1: 304.586\tvalid_1's l1: 551.12\n",
      "[228900]\ttraining's l1: 304.512\tvalid_1's l1: 551.111\n",
      "[229200]\ttraining's l1: 304.452\tvalid_1's l1: 551.1\n",
      "[229500]\ttraining's l1: 304.39\tvalid_1's l1: 551.093\n",
      "[229800]\ttraining's l1: 304.326\tvalid_1's l1: 551.079\n",
      "[230100]\ttraining's l1: 304.27\tvalid_1's l1: 551.07\n",
      "[230400]\ttraining's l1: 304.184\tvalid_1's l1: 551.068\n",
      "[230700]\ttraining's l1: 304.115\tvalid_1's l1: 551.07\n",
      "[231000]\ttraining's l1: 304.054\tvalid_1's l1: 551.068\n",
      "[231300]\ttraining's l1: 303.99\tvalid_1's l1: 551.057\n",
      "[231600]\ttraining's l1: 303.922\tvalid_1's l1: 551.049\n",
      "[231900]\ttraining's l1: 303.871\tvalid_1's l1: 551.042\n",
      "[232200]\ttraining's l1: 303.815\tvalid_1's l1: 551.038\n",
      "[232500]\ttraining's l1: 303.755\tvalid_1's l1: 551.032\n",
      "[232800]\ttraining's l1: 303.689\tvalid_1's l1: 551.028\n",
      "[233100]\ttraining's l1: 303.632\tvalid_1's l1: 551.023\n",
      "[233400]\ttraining's l1: 303.553\tvalid_1's l1: 551.01\n",
      "[233700]\ttraining's l1: 303.481\tvalid_1's l1: 551.006\n",
      "[234000]\ttraining's l1: 303.423\tvalid_1's l1: 551\n",
      "[234300]\ttraining's l1: 303.359\tvalid_1's l1: 550.992\n",
      "[234600]\ttraining's l1: 303.299\tvalid_1's l1: 550.977\n",
      "[234900]\ttraining's l1: 303.242\tvalid_1's l1: 550.973\n",
      "[235200]\ttraining's l1: 303.155\tvalid_1's l1: 550.969\n",
      "[235500]\ttraining's l1: 303.086\tvalid_1's l1: 550.96\n",
      "[235800]\ttraining's l1: 303.031\tvalid_1's l1: 550.951\n",
      "[236100]\ttraining's l1: 302.966\tvalid_1's l1: 550.936\n",
      "[236400]\ttraining's l1: 302.905\tvalid_1's l1: 550.931\n",
      "[236700]\ttraining's l1: 302.819\tvalid_1's l1: 550.923\n",
      "[237000]\ttraining's l1: 302.738\tvalid_1's l1: 550.921\n",
      "[237300]\ttraining's l1: 302.678\tvalid_1's l1: 550.912\n",
      "[237600]\ttraining's l1: 302.607\tvalid_1's l1: 550.907\n",
      "[237900]\ttraining's l1: 302.461\tvalid_1's l1: 550.899\n",
      "[238200]\ttraining's l1: 302.375\tvalid_1's l1: 550.898\n",
      "[238500]\ttraining's l1: 302.293\tvalid_1's l1: 550.908\n",
      "[238800]\ttraining's l1: 302.214\tvalid_1's l1: 550.909\n",
      "Early stopping, best iteration is:\n",
      "[238085]\ttraining's l1: 302.414\tvalid_1's l1: 550.895\n"
     ]
    },
    {
     "ename": "NotFittedError",
     "evalue": "No best_iteration found. Need to call fit with early_stopping_rounds beforehand.",
     "output_type": "error",
     "traceback": [
      "\u001b[1;31m---------------------------------------------------------------------------\u001b[0m",
      "\u001b[1;31mNotFittedError\u001b[0m                            Traceback (most recent call last)",
      "\u001b[1;32m<ipython-input-33-c1ef6116ea0e>\u001b[0m in \u001b[0;36m<module>\u001b[1;34m\u001b[0m\n\u001b[0;32m      7\u001b[0m \u001b[1;33m\u001b[0m\u001b[0m\n\u001b[0;32m      8\u001b[0m \u001b[1;31m# 模型预测\u001b[0m\u001b[1;33m\u001b[0m\u001b[1;33m\u001b[0m\u001b[1;33m\u001b[0m\u001b[0m\n\u001b[1;32m----> 9\u001b[1;33m \u001b[0mpred_y\u001b[0m \u001b[1;33m=\u001b[0m \u001b[0mmodel_lgb_1\u001b[0m\u001b[1;33m.\u001b[0m\u001b[0mpredict\u001b[0m\u001b[1;33m(\u001b[0m\u001b[0mvaild_x\u001b[0m\u001b[1;33m,\u001b[0m\u001b[0mstart_iteration\u001b[0m\u001b[1;33m=\u001b[0m\u001b[0mmodel\u001b[0m\u001b[1;33m.\u001b[0m\u001b[0mbest_iteration_\u001b[0m\u001b[1;33m)\u001b[0m\u001b[1;33m\u001b[0m\u001b[1;33m\u001b[0m\u001b[0m\n\u001b[0m\u001b[0;32m     10\u001b[0m \u001b[0mprint\u001b[0m\u001b[1;33m(\u001b[0m\u001b[1;34m'线下MAE:'\u001b[0m\u001b[1;33m,\u001b[0m\u001b[0mmean_absolute_error\u001b[0m\u001b[1;33m(\u001b[0m\u001b[0mpred_y\u001b[0m\u001b[1;33m,\u001b[0m\u001b[0mvaild_y\u001b[0m\u001b[1;33m)\u001b[0m\u001b[1;33m)\u001b[0m\u001b[1;33m\u001b[0m\u001b[1;33m\u001b[0m\u001b[0m\n",
      "\u001b[1;32m~\\Anaconda3\\envs\\rs\\lib\\site-packages\\lightgbm\\sklearn.py\u001b[0m in \u001b[0;36mbest_iteration_\u001b[1;34m(self)\u001b[0m\n\u001b[0;32m    713\u001b[0m         \u001b[1;34m\"\"\":obj:`int` or :obj:`None`: The best iteration of fitted model if ``early_stopping_rounds`` has been specified.\"\"\"\u001b[0m\u001b[1;33m\u001b[0m\u001b[1;33m\u001b[0m\u001b[0m\n\u001b[0;32m    714\u001b[0m         \u001b[1;32mif\u001b[0m \u001b[0mself\u001b[0m\u001b[1;33m.\u001b[0m\u001b[0m_n_features\u001b[0m \u001b[1;32mis\u001b[0m \u001b[1;32mNone\u001b[0m\u001b[1;33m:\u001b[0m\u001b[1;33m\u001b[0m\u001b[1;33m\u001b[0m\u001b[0m\n\u001b[1;32m--> 715\u001b[1;33m             \u001b[1;32mraise\u001b[0m \u001b[0mLGBMNotFittedError\u001b[0m\u001b[1;33m(\u001b[0m\u001b[1;34m'No best_iteration found. Need to call fit with early_stopping_rounds beforehand.'\u001b[0m\u001b[1;33m)\u001b[0m\u001b[1;33m\u001b[0m\u001b[1;33m\u001b[0m\u001b[0m\n\u001b[0m\u001b[0;32m    716\u001b[0m         \u001b[1;32mreturn\u001b[0m \u001b[0mself\u001b[0m\u001b[1;33m.\u001b[0m\u001b[0m_best_iteration\u001b[0m\u001b[1;33m\u001b[0m\u001b[1;33m\u001b[0m\u001b[0m\n\u001b[0;32m    717\u001b[0m \u001b[1;33m\u001b[0m\u001b[0m\n",
      "\u001b[1;31mNotFittedError\u001b[0m: No best_iteration found. Need to call fit with early_stopping_rounds beforehand."
     ]
    }
   ],
   "source": [
    "#############################################\n",
    "# 模型训练\n",
    "model_lgb_1.fit(train_x, train_y,eval_metric='mae', \n",
    "          eval_set=[(train_x, train_y), (vaild_x, vaild_y)],\n",
    "          verbose=300,\n",
    "          early_stopping_rounds=1000)  \n",
    "\n",
    "# 模型预测\n",
    "pred_y = model_lgb_1.predict(vaild_x,start_iteration=model.best_iteration_)\n",
    "print('线下MAE:',mean_absolute_error(pred_y,vaild_y))"
   ]
  },
  {
   "cell_type": "code",
   "execution_count": null,
   "metadata": {
    "ExecuteTime": {
     "end_time": "2021-04-17T16:29:55.558105Z",
     "start_time": "2021-04-17T16:04:08.135Z"
    }
   },
   "outputs": [],
   "source": [
    "###########################################################################################\n",
    "# 观看特征重要性\n",
    "columns_list = train_x.columns\n",
    "value = model.feature_importances_\n",
    "imp_df = pd.Series(value,index=columns_list)\n",
    "\n",
    "pd.set_option('display.max_rows', None)\n",
    "imp_df.sort_values(ascending=False)\n",
    "pd.set_option('display.max_rows', 10)"
   ]
  },
  {
   "cell_type": "code",
   "execution_count": 34,
   "metadata": {
    "ExecuteTime": {
     "end_time": "2021-04-18T10:06:05.759448Z",
     "start_time": "2021-04-18T09:35:11.707722Z"
    }
   },
   "outputs": [],
   "source": [
    "###########################################################################################\n",
    "# 预测\n",
    "test_x = X_test.astype(float)\n",
    "pred_y_1 = model_lgb_1.predict(test_x)"
   ]
  },
  {
   "cell_type": "code",
   "execution_count": 19,
   "metadata": {
    "ExecuteTime": {
     "end_time": "2021-04-18T00:40:33.137735Z",
     "start_time": "2021-04-18T00:40:33.034048Z"
    }
   },
   "outputs": [],
   "source": [
    "# 生成对应格式的DF\n",
    "submit = pd.read_csv(\"./used_car_sample_submit.csv\", sep = ',')\n",
    "sub_id = submit['SaleID']\n",
    "sub = pd.DataFrame(pred_y,columns=['price'])\n",
    "sub.insert(0,'SaleID',sub_id)"
   ]
  },
  {
   "cell_type": "code",
   "execution_count": 21,
   "metadata": {
    "ExecuteTime": {
     "end_time": "2021-04-18T00:40:43.091132Z",
     "start_time": "2021-04-18T00:40:42.887677Z"
    }
   },
   "outputs": [],
   "source": [
    "# 保存csv\n",
    "sub.to_csv('./submission/lgb_reg_es_1.csv',index=False)"
   ]
  },
  {
   "cell_type": "markdown",
   "metadata": {},
   "source": [
    "**lgb+全量+正则**(543)"
   ]
  },
  {
   "cell_type": "code",
   "execution_count": 37,
   "metadata": {
    "ExecuteTime": {
     "end_time": "2021-04-18T12:07:50.331594Z",
     "start_time": "2021-04-18T12:07:50.325646Z"
    }
   },
   "outputs": [],
   "source": [
    "#############################################\n",
    "param = {'boosting_type': 'gbdt',\n",
    "         'num_leaves': 31,\n",
    "         'max_depth': -1,\n",
    "         \"lambda_l2\": 2,  # 防止过拟合\n",
    "         'min_data_in_leaf': 20,  # 防止过拟合，\n",
    "         'objective': 'regression_l1',\n",
    "         'learning_rate': 0.01,\n",
    "         \"min_child_samples\": 20,\n",
    "         \"feature_fraction\": 0.8,\n",
    "         \"bagging_freq\": 1,\n",
    "         \"bagging_fraction\": 0.8,\n",
    "         \"bagging_seed\": 11,\n",
    "         \"metric\": 'mae',\n",
    "         'n_estimators':100000\n",
    "         }\n",
    "\n",
    "model_lgb_2 = lgb.LGBMRegressor(**param)"
   ]
  },
  {
   "cell_type": "code",
   "execution_count": 38,
   "metadata": {
    "ExecuteTime": {
     "end_time": "2021-04-18T12:24:51.861701Z",
     "start_time": "2021-04-18T12:08:05.369438Z"
    }
   },
   "outputs": [
    {
     "name": "stdout",
     "output_type": "stream",
     "text": [
      "[LightGBM] [Warning] feature_fraction is set=0.8, colsample_bytree=1.0 will be ignored. Current value: feature_fraction=0.8\n",
      "[LightGBM] [Warning] min_data_in_leaf is set=20, min_child_samples=20 will be ignored. Current value: min_data_in_leaf=20\n",
      "[LightGBM] [Warning] bagging_fraction is set=0.8, subsample=1.0 will be ignored. Current value: bagging_fraction=0.8\n",
      "[LightGBM] [Warning] lambda_l2 is set=2, reg_lambda=0.0 will be ignored. Current value: lambda_l2=2\n",
      "[LightGBM] [Warning] bagging_freq is set=1, subsample_freq=0 will be ignored. Current value: bagging_freq=1\n",
      "线下MAE: 370.5058806377927\n"
     ]
    }
   ],
   "source": [
    "model_lgb_2.fit(data_x, data_y,eval_metric='mae')  \n",
    "\n",
    "# 模型预测\n",
    "pred_y = model_lgb_2.predict(vaild_x)\n",
    "print('线下MAE:',mean_absolute_error(pred_y,vaild_y))"
   ]
  },
  {
   "cell_type": "code",
   "execution_count": 72,
   "metadata": {
    "ExecuteTime": {
     "end_time": "2021-04-18T13:48:23.368822Z",
     "start_time": "2021-04-18T13:41:22.513119Z"
    }
   },
   "outputs": [],
   "source": [
    "###########################################################################################\n",
    "# 预测\n",
    "test_x = X_test.astype(float)\n",
    "pred_y_2 = model_lgb_2.predict(test_x)"
   ]
  },
  {
   "cell_type": "code",
   "execution_count": 25,
   "metadata": {
    "ExecuteTime": {
     "end_time": "2021-04-18T07:40:55.588843Z",
     "start_time": "2021-04-18T07:40:55.576875Z"
    }
   },
   "outputs": [],
   "source": [
    "sub_2 = pd.DataFrame(pred_y_2,columns=['price'])\n",
    "sub_2.insert(0,'SaleID',sub_id)"
   ]
  },
  {
   "cell_type": "code",
   "execution_count": 26,
   "metadata": {
    "ExecuteTime": {
     "end_time": "2021-04-18T07:40:56.320886Z",
     "start_time": "2021-04-18T07:40:56.093496Z"
    }
   },
   "outputs": [],
   "source": [
    "# 保存csv\n",
    "sub_2.to_csv('./submission/lgb_reg_es_full.csv',index=False)"
   ]
  },
  {
   "cell_type": "markdown",
   "metadata": {
    "ExecuteTime": {
     "end_time": "2021-04-18T08:31:21.172151Z",
     "start_time": "2021-04-18T08:31:21.167170Z"
    }
   },
   "source": [
    "# 模型融合\n",
    "这里尝试对上面的两个单独的lgb模型进行stacking融合，使用线性回归"
   ]
  },
  {
   "cell_type": "code",
   "execution_count": 28,
   "metadata": {
    "ExecuteTime": {
     "end_time": "2021-04-18T08:34:23.859898Z",
     "start_time": "2021-04-18T08:34:23.855880Z"
    }
   },
   "outputs": [],
   "source": [
    "from sklearn.linear_model import LinearRegression"
   ]
  },
  {
   "cell_type": "code",
   "execution_count": 35,
   "metadata": {
    "ExecuteTime": {
     "end_time": "2021-04-18T12:06:15.613753Z",
     "start_time": "2021-04-18T11:01:31.570478Z"
    }
   },
   "outputs": [],
   "source": [
    "# 收集model1对于data_x的预测值\n",
    "pred_X_data_1 = model_lgb_1.predict(data_x)"
   ]
  },
  {
   "cell_type": "code",
   "execution_count": 39,
   "metadata": {
    "ExecuteTime": {
     "end_time": "2021-04-18T12:44:33.208298Z",
     "start_time": "2021-04-18T12:26:36.330481Z"
    }
   },
   "outputs": [],
   "source": [
    "# 收集model2对于data_x的预测值\n",
    "pred_X_data_2 = model_lgb_2.predict(data_x)"
   ]
  },
  {
   "cell_type": "code",
   "execution_count": 65,
   "metadata": {
    "ExecuteTime": {
     "end_time": "2021-04-18T13:37:12.074473Z",
     "start_time": "2021-04-18T13:37:12.066466Z"
    }
   },
   "outputs": [],
   "source": [
    "# 对model_lgb_1预测训练集结果\n",
    "x_data_stacking = pd.DataFrame(np.vstack((pred_X_data_1, pred_X_data_2)).T, columns=['lgb_1','lgb_2'])\n",
    "y_data_stacking = data_y.copy(deep=True)"
   ]
  },
  {
   "cell_type": "code",
   "execution_count": 29,
   "metadata": {
    "ExecuteTime": {
     "end_time": "2021-04-18T08:35:40.397303Z",
     "start_time": "2021-04-18T08:35:40.391364Z"
    }
   },
   "outputs": [],
   "source": [
    "sub_2 = sub.copy(deep=True)"
   ]
  },
  {
   "cell_type": "code",
   "execution_count": 66,
   "metadata": {
    "ExecuteTime": {
     "end_time": "2021-04-18T13:37:26.102979Z",
     "start_time": "2021-04-18T13:37:25.736961Z"
    }
   },
   "outputs": [
    {
     "data": {
      "text/plain": [
       "LinearRegression(copy_X=True, fit_intercept=True, n_jobs=None, normalize=False)"
      ]
     },
     "execution_count": 66,
     "metadata": {},
     "output_type": "execute_result"
    }
   ],
   "source": [
    "# 训练LR来拟合\n",
    "stacking_model_lr = LinearRegression()\n",
    "stacking_model_lr.fit(x_data_stacking, y_data_stacking)"
   ]
  },
  {
   "cell_type": "markdown",
   "metadata": {},
   "source": [
    "组合两个模型的test结果，并用训练好的lr进行预测"
   ]
  },
  {
   "cell_type": "code",
   "execution_count": 75,
   "metadata": {
    "ExecuteTime": {
     "end_time": "2021-04-18T13:48:54.423784Z",
     "start_time": "2021-04-18T13:48:54.416803Z"
    }
   },
   "outputs": [],
   "source": [
    "x_test_stacking = pd.DataFrame(np.vstack((pred_y_1, pred_y_2)).T, columns=['lgb_1','lgb_2'])"
   ]
  },
  {
   "cell_type": "code",
   "execution_count": 77,
   "metadata": {
    "ExecuteTime": {
     "end_time": "2021-04-18T13:49:31.713118Z",
     "start_time": "2021-04-18T13:49:31.599423Z"
    }
   },
   "outputs": [],
   "source": [
    "# 预测\n",
    "pred_y_stacking = stacking_model_lr.predict(x_test_stacking)"
   ]
  },
  {
   "cell_type": "code",
   "execution_count": 78,
   "metadata": {
    "ExecuteTime": {
     "end_time": "2021-04-18T13:49:48.885225Z",
     "start_time": "2021-04-18T13:49:48.879238Z"
    }
   },
   "outputs": [],
   "source": [
    "sub_stacking = pd.DataFrame(pred_y_stacking,columns=['price'])\n",
    "sub_stacking.insert(0,'SaleID',sub_id)"
   ]
  },
  {
   "cell_type": "code",
   "execution_count": 79,
   "metadata": {
    "ExecuteTime": {
     "end_time": "2021-04-18T13:49:54.505234Z",
     "start_time": "2021-04-18T13:49:54.332662Z"
    }
   },
   "outputs": [],
   "source": [
    "# 保存csv\n",
    "sub_stacking.to_csv('./submission/lgb_reg_es_full&lgb_reg_es_1_stacking.csv',index=False)"
   ]
  },
  {
   "cell_type": "code",
   "execution_count": null,
   "metadata": {},
   "outputs": [],
   "source": []
  }
 ],
 "metadata": {
  "kernelspec": {
   "display_name": "rs",
   "language": "python",
   "name": "rs"
  },
  "language_info": {
   "codemirror_mode": {
    "name": "ipython",
    "version": 3
   },
   "file_extension": ".py",
   "mimetype": "text/x-python",
   "name": "python",
   "nbconvert_exporter": "python",
   "pygments_lexer": "ipython3",
   "version": "3.8.5"
  },
  "toc": {
   "base_numbering": 1,
   "nav_menu": {},
   "number_sections": true,
   "sideBar": true,
   "skip_h1_title": false,
   "title_cell": "Table of Contents",
   "title_sidebar": "Contents",
   "toc_cell": false,
   "toc_position": {},
   "toc_section_display": true,
   "toc_window_display": false
  },
  "varInspector": {
   "cols": {
    "lenName": 16,
    "lenType": 16,
    "lenVar": 40
   },
   "kernels_config": {
    "python": {
     "delete_cmd_postfix": "",
     "delete_cmd_prefix": "del ",
     "library": "var_list.py",
     "varRefreshCmd": "print(var_dic_list())"
    },
    "r": {
     "delete_cmd_postfix": ") ",
     "delete_cmd_prefix": "rm(",
     "library": "var_list.r",
     "varRefreshCmd": "cat(var_dic_list()) "
    }
   },
   "types_to_exclude": [
    "module",
    "function",
    "builtin_function_or_method",
    "instance",
    "_Feature"
   ],
   "window_display": false
  }
 },
 "nbformat": 4,
 "nbformat_minor": 4
}

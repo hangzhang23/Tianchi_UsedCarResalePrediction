{
 "cells": [
  {
   "cell_type": "markdown",
   "metadata": {},
   "source": [
    "# 天池二手车交易价格预测\n",
    "## 读取数据\n"
   ]
  },
  {
   "cell_type": "code",
   "execution_count": 1,
   "metadata": {
    "ExecuteTime": {
     "end_time": "2021-04-24T15:46:04.206802Z",
     "start_time": "2021-04-24T15:46:02.071540Z"
    }
   },
   "outputs": [],
   "source": [
    "import pandas as pd\n",
    "import matplotlib.pyplot as plt\n",
    "import missingno as msno\n",
    "from datetime import datetime\n",
    "import numpy as np"
   ]
  },
  {
   "cell_type": "code",
   "execution_count": 2,
   "metadata": {
    "ExecuteTime": {
     "end_time": "2021-04-24T15:46:05.879488Z",
     "start_time": "2021-04-24T15:46:05.120357Z"
    }
   },
   "outputs": [],
   "source": [
    "# 数据加载\n",
    "train_data = pd.read_csv('./used_car_train_20200313.csv', sep=' ')"
   ]
  },
  {
   "cell_type": "code",
   "execution_count": 3,
   "metadata": {
    "ExecuteTime": {
     "end_time": "2021-04-24T15:46:06.318313Z",
     "start_time": "2021-04-24T15:46:06.004989Z"
    },
    "scrolled": false
   },
   "outputs": [],
   "source": [
    "test_data = pd.read_csv(\"./used_car_testB_20200421.csv\", sep = ' ')"
   ]
  },
  {
   "cell_type": "markdown",
   "metadata": {},
   "source": [
    "## 缺失值补全"
   ]
  },
  {
   "cell_type": "code",
   "execution_count": 4,
   "metadata": {
    "ExecuteTime": {
     "end_time": "2021-04-24T15:46:08.641936Z",
     "start_time": "2021-04-24T15:46:08.614011Z"
    }
   },
   "outputs": [
    {
     "data": {
      "text/plain": [
       "0.0    111361\n",
       "-       24324\n",
       "1.0     14315\n",
       "Name: notRepairedDamage, dtype: int64"
      ]
     },
     "execution_count": 4,
     "metadata": {},
     "output_type": "execute_result"
    }
   ],
   "source": [
    "train_data['notRepairedDamage'].value_counts()"
   ]
  },
  {
   "cell_type": "code",
   "execution_count": 5,
   "metadata": {
    "ExecuteTime": {
     "end_time": "2021-04-24T15:46:09.369043Z",
     "start_time": "2021-04-24T15:46:09.357023Z"
    }
   },
   "outputs": [
    {
     "data": {
      "text/plain": [
       "0.0    37224\n",
       "-       8069\n",
       "1.0     4707\n",
       "Name: notRepairedDamage, dtype: int64"
      ]
     },
     "execution_count": 5,
     "metadata": {},
     "output_type": "execute_result"
    }
   ],
   "source": [
    "test_data['notRepairedDamage'].value_counts()"
   ]
  },
  {
   "cell_type": "code",
   "execution_count": 6,
   "metadata": {
    "ExecuteTime": {
     "end_time": "2021-04-24T15:46:11.159237Z",
     "start_time": "2021-04-24T15:46:11.142248Z"
    }
   },
   "outputs": [],
   "source": [
    "train_data['notRepairedDamage'].replace('-', '0.0', inplace=True)\n",
    "test_data['notRepairedDamage'].replace('-', '0.0', inplace=True)"
   ]
  },
  {
   "cell_type": "code",
   "execution_count": 7,
   "metadata": {
    "ExecuteTime": {
     "end_time": "2021-04-24T15:46:14.701724Z",
     "start_time": "2021-04-24T15:46:14.664824Z"
    }
   },
   "outputs": [
    {
     "data": {
      "text/plain": [
       "Index(['SaleID', 'name', 'regDate', 'model', 'brand', 'bodyType', 'fuelType',\n",
       "       'gearbox', 'power', 'kilometer', 'regionCode', 'seller', 'offerType',\n",
       "       'creatDate', 'price', 'v_0', 'v_1', 'v_2', 'v_3', 'v_4', 'v_5', 'v_6',\n",
       "       'v_7', 'v_8', 'v_9', 'v_10', 'v_11', 'v_12', 'v_13', 'v_14'],\n",
       "      dtype='object')"
      ]
     },
     "execution_count": 7,
     "metadata": {},
     "output_type": "execute_result"
    }
   ],
   "source": [
    "# 查看数值类型\n",
    "#train_data.info()\n",
    "numerical_cols = train_data.select_dtypes(exclude='object').columns\n",
    "numerical_cols"
   ]
  },
  {
   "cell_type": "code",
   "execution_count": 8,
   "metadata": {
    "ExecuteTime": {
     "end_time": "2021-04-24T15:46:17.387539Z",
     "start_time": "2021-04-24T15:46:17.369589Z"
    }
   },
   "outputs": [
    {
     "data": {
      "text/plain": [
       "Index(['notRepairedDamage'], dtype='object')"
      ]
     },
     "execution_count": 8,
     "metadata": {},
     "output_type": "execute_result"
    }
   ],
   "source": [
    "# 查看分类类型\n",
    "categorical_cols = train_data.select_dtypes(include='object').columns\n",
    "categorical_cols"
   ]
  },
  {
   "cell_type": "markdown",
   "metadata": {},
   "source": [
    "## 特征工程\n",
    "### 特征选择"
   ]
  },
  {
   "cell_type": "code",
   "execution_count": 9,
   "metadata": {
    "ExecuteTime": {
     "end_time": "2021-04-24T15:46:19.800121Z",
     "start_time": "2021-04-24T15:46:19.790130Z"
    }
   },
   "outputs": [],
   "source": [
    "import warnings\n",
    "warnings.filterwarnings('ignore')"
   ]
  },
  {
   "cell_type": "code",
   "execution_count": 10,
   "metadata": {
    "ExecuteTime": {
     "end_time": "2021-04-24T15:46:26.205947Z",
     "start_time": "2021-04-24T15:46:26.190989Z"
    },
    "scrolled": false
   },
   "outputs": [],
   "source": [
    "# 特征选择\n",
    "# drop_cols = ['SaleID', 'regDate', 'creatDate', 'offerType', 'price']\n",
    "drop_cols = ['SaleID','name','price']\n",
    "feature_cols = [col for col in train_data.columns if col not in drop_cols]"
   ]
  },
  {
   "cell_type": "markdown",
   "metadata": {},
   "source": [
    "### 日期类型处理"
   ]
  },
  {
   "cell_type": "code",
   "execution_count": 11,
   "metadata": {
    "ExecuteTime": {
     "end_time": "2021-04-24T15:46:31.646402Z",
     "start_time": "2021-04-24T15:46:30.994141Z"
    },
    "scrolled": true
   },
   "outputs": [
    {
     "data": {
      "text/plain": [
       "0        2004-04-02\n",
       "1        2003-03-01\n",
       "2        2004-04-03\n",
       "3        1996-09-08\n",
       "4        2012-01-03\n",
       "            ...    \n",
       "149995   2000-06-07\n",
       "149996   2009-11-02\n",
       "149997   2010-10-03\n",
       "149998   2006-03-12\n",
       "149999   1999-02-04\n",
       "Name: regDate, Length: 150000, dtype: datetime64[ns]"
      ]
     },
     "execution_count": 11,
     "metadata": {},
     "output_type": "execute_result"
    }
   ],
   "source": [
    "train_data['regDate'] = pd.to_datetime(train_data['regDate'], format='%Y%m%d', errors='coerce')\n",
    "test_data['regDate']=pd.to_datetime(test_data['regDate'], format='%Y%m%d', errors='coerce')\n",
    "train_data['regDate']"
   ]
  },
  {
   "cell_type": "code",
   "execution_count": 12,
   "metadata": {
    "ExecuteTime": {
     "end_time": "2021-04-24T15:46:36.018697Z",
     "start_time": "2021-04-24T15:46:35.987781Z"
    }
   },
   "outputs": [],
   "source": [
    "train_data['regDate'].fillna(train_data['regDate'].mode()[0], inplace=True)\n",
    "test_data['regDate'].fillna(test_data['regDate'].mode()[0], inplace=True)"
   ]
  },
  {
   "cell_type": "code",
   "execution_count": 13,
   "metadata": {
    "ExecuteTime": {
     "end_time": "2021-04-24T15:46:39.514495Z",
     "start_time": "2021-04-24T15:46:37.856781Z"
    }
   },
   "outputs": [],
   "source": [
    "train_data['regDate'] = train_data['regDate'].apply(lambda x: x.strftime('%Y%m%d'))\n",
    "test_data['regDate'] = test_data['regDate'].apply(lambda x: x.strftime('%Y%m%d'))"
   ]
  },
  {
   "cell_type": "markdown",
   "metadata": {},
   "source": [
    "### 添加年月日信息"
   ]
  },
  {
   "cell_type": "code",
   "execution_count": 15,
   "metadata": {
    "ExecuteTime": {
     "end_time": "2021-04-24T15:47:12.025630Z",
     "start_time": "2021-04-24T15:47:11.698248Z"
    }
   },
   "outputs": [],
   "source": [
    "train_data['regDate_year'] = train_data['regDate'].astype('str').apply(lambda x: int(x[0:4]))\n",
    "train_data['regDate_month'] = train_data['regDate'].astype('str').apply(lambda x: int(x[4:6]))\n",
    "train_data['regDate_day'] = train_data['regDate'].astype('str').apply(lambda x: int(x[6:]))"
   ]
  },
  {
   "cell_type": "code",
   "execution_count": 16,
   "metadata": {
    "ExecuteTime": {
     "end_time": "2021-04-24T15:47:13.514616Z",
     "start_time": "2021-04-24T15:47:12.942919Z"
    }
   },
   "outputs": [],
   "source": [
    "train_data['creatDate_year'] = train_data['creatDate'].astype('str').apply(lambda x: int(x[0:4]))\n",
    "train_data['creatDate_month'] =train_data['creatDate'].astype('str').apply(lambda x: int(x[4:6]))\n",
    "train_data['creatDate_day'] =train_data['creatDate'].astype('str').apply(lambda x: int(x[6:]))"
   ]
  },
  {
   "cell_type": "code",
   "execution_count": 17,
   "metadata": {
    "ExecuteTime": {
     "end_time": "2021-04-24T15:47:14.238612Z",
     "start_time": "2021-04-24T15:47:14.099824Z"
    }
   },
   "outputs": [],
   "source": [
    "test_data['regDate_year'] = test_data['regDate'].astype('str').apply(lambda x: int(x[0:4]))\n",
    "test_data['regDate_month'] = test_data['regDate'].astype('str').apply(lambda x: int(x[4:6]))\n",
    "test_data['regDate_day'] = test_data['regDate'].astype('str').apply(lambda x: int(x[6:]))"
   ]
  },
  {
   "cell_type": "code",
   "execution_count": 18,
   "metadata": {
    "ExecuteTime": {
     "end_time": "2021-04-24T15:47:16.135604Z",
     "start_time": "2021-04-24T15:47:15.922946Z"
    }
   },
   "outputs": [],
   "source": [
    "test_data['creatDate_year'] = test_data['creatDate'].astype('str').apply(lambda x: int(x[0:4]))\n",
    "test_data['creatDate_month'] =test_data['creatDate'].astype('str').apply(lambda x: int(x[4:6]))\n",
    "test_data['creatDate_day'] =test_data['creatDate'].astype('str').apply(lambda x: int(x[6:]))"
   ]
  },
  {
   "cell_type": "code",
   "execution_count": 19,
   "metadata": {
    "ExecuteTime": {
     "end_time": "2021-04-24T15:47:20.284501Z",
     "start_time": "2021-04-24T15:47:18.279641Z"
    }
   },
   "outputs": [],
   "source": [
    "train_data['regDate'] = train_data['regDate'].apply(lambda x: datetime.strptime(x, '%Y%m%d'))\n",
    "test_data['regDate'] = test_data['regDate'].apply(lambda x: datetime.strptime(x, '%Y%m%d'))"
   ]
  },
  {
   "cell_type": "code",
   "execution_count": 20,
   "metadata": {
    "ExecuteTime": {
     "end_time": "2021-04-24T15:47:22.163281Z",
     "start_time": "2021-04-24T15:47:22.112388Z"
    },
    "scrolled": false
   },
   "outputs": [
    {
     "data": {
      "text/html": [
       "<div>\n",
       "<style scoped>\n",
       "    .dataframe tbody tr th:only-of-type {\n",
       "        vertical-align: middle;\n",
       "    }\n",
       "\n",
       "    .dataframe tbody tr th {\n",
       "        vertical-align: top;\n",
       "    }\n",
       "\n",
       "    .dataframe thead th {\n",
       "        text-align: right;\n",
       "    }\n",
       "</style>\n",
       "<table border=\"1\" class=\"dataframe\">\n",
       "  <thead>\n",
       "    <tr style=\"text-align: right;\">\n",
       "      <th></th>\n",
       "      <th>regDate</th>\n",
       "      <th>regDate_diff</th>\n",
       "    </tr>\n",
       "  </thead>\n",
       "  <tbody>\n",
       "    <tr>\n",
       "      <th>0</th>\n",
       "      <td>2004-04-02</td>\n",
       "      <td>4840</td>\n",
       "    </tr>\n",
       "    <tr>\n",
       "      <th>1</th>\n",
       "      <td>2003-03-01</td>\n",
       "      <td>4442</td>\n",
       "    </tr>\n",
       "    <tr>\n",
       "      <th>2</th>\n",
       "      <td>2004-04-03</td>\n",
       "      <td>4841</td>\n",
       "    </tr>\n",
       "    <tr>\n",
       "      <th>3</th>\n",
       "      <td>1996-09-08</td>\n",
       "      <td>2077</td>\n",
       "    </tr>\n",
       "    <tr>\n",
       "      <th>4</th>\n",
       "      <td>2012-01-03</td>\n",
       "      <td>7672</td>\n",
       "    </tr>\n",
       "    <tr>\n",
       "      <th>...</th>\n",
       "      <td>...</td>\n",
       "      <td>...</td>\n",
       "    </tr>\n",
       "    <tr>\n",
       "      <th>149995</th>\n",
       "      <td>2000-06-07</td>\n",
       "      <td>3445</td>\n",
       "    </tr>\n",
       "    <tr>\n",
       "      <th>149996</th>\n",
       "      <td>2009-11-02</td>\n",
       "      <td>6880</td>\n",
       "    </tr>\n",
       "    <tr>\n",
       "      <th>149997</th>\n",
       "      <td>2010-10-03</td>\n",
       "      <td>7215</td>\n",
       "    </tr>\n",
       "    <tr>\n",
       "      <th>149998</th>\n",
       "      <td>2006-03-12</td>\n",
       "      <td>5549</td>\n",
       "    </tr>\n",
       "    <tr>\n",
       "      <th>149999</th>\n",
       "      <td>1999-02-04</td>\n",
       "      <td>2956</td>\n",
       "    </tr>\n",
       "  </tbody>\n",
       "</table>\n",
       "<p>150000 rows × 2 columns</p>\n",
       "</div>"
      ],
      "text/plain": [
       "          regDate  regDate_diff\n",
       "0      2004-04-02          4840\n",
       "1      2003-03-01          4442\n",
       "2      2004-04-03          4841\n",
       "3      1996-09-08          2077\n",
       "4      2012-01-03          7672\n",
       "...           ...           ...\n",
       "149995 2000-06-07          3445\n",
       "149996 2009-11-02          6880\n",
       "149997 2010-10-03          7215\n",
       "149998 2006-03-12          5549\n",
       "149999 1999-02-04          2956\n",
       "\n",
       "[150000 rows x 2 columns]"
      ]
     },
     "execution_count": 20,
     "metadata": {},
     "output_type": "execute_result"
    }
   ],
   "source": [
    "# 时间diff\n",
    "train_data['regDate_diff'] = (train_data['regDate'] - train_data['regDate'].min()).dt.days\n",
    "test_data['regDate_diff'] = (test_data['regDate'] - test_data['regDate'].min()).dt.days\n",
    "train_data[['regDate','regDate_diff']]"
   ]
  },
  {
   "cell_type": "code",
   "execution_count": 21,
   "metadata": {
    "ExecuteTime": {
     "end_time": "2021-04-24T15:47:26.604370Z",
     "start_time": "2021-04-24T15:47:26.592403Z"
    }
   },
   "outputs": [],
   "source": [
    "feature_cols.append('regDate_year')\n",
    "feature_cols.append('creatDate_year')"
   ]
  },
  {
   "cell_type": "code",
   "execution_count": 22,
   "metadata": {
    "ExecuteTime": {
     "end_time": "2021-04-24T15:47:27.868047Z",
     "start_time": "2021-04-24T15:47:27.813138Z"
    }
   },
   "outputs": [],
   "source": [
    "# 提取特征列\n",
    "X_data = train_data[feature_cols]\n",
    "Y_data = train_data['price']\n",
    "X_test = test_data[feature_cols]"
   ]
  },
  {
   "cell_type": "code",
   "execution_count": 23,
   "metadata": {
    "ExecuteTime": {
     "end_time": "2021-04-24T15:47:28.896272Z",
     "start_time": "2021-04-24T15:47:28.878289Z"
    }
   },
   "outputs": [
    {
     "name": "stdout",
     "output_type": "stream",
     "text": [
      "min:  11\n",
      "max:  99999\n",
      "ptp:  99988\n",
      "mean:  5923.327333333334\n",
      "std:  7501.973469876635\n",
      "var:  56279605.942732885\n"
     ]
    }
   ],
   "source": [
    "# 定一个统计函数，用于统计某字段的特征\n",
    "def show_stats(data):\n",
    "    print('min: ', np.min(data))\n",
    "    print('max: ', np.max(data))\n",
    "    # ptp = max - min\n",
    "    print('ptp: ', np.ptp(data))\n",
    "    print('mean: ', np.mean(data))\n",
    "    print('std: ', np.std(data))\n",
    "    print('var: ', np.var(data))\n",
    "show_stats(Y_data)"
   ]
  },
  {
   "cell_type": "code",
   "execution_count": 24,
   "metadata": {
    "ExecuteTime": {
     "end_time": "2021-04-24T15:47:32.419813Z",
     "start_time": "2021-04-24T15:47:32.376930Z"
    }
   },
   "outputs": [],
   "source": [
    "#X_data.info()\n",
    "X_data['notRepairedDamage'] = X_data['notRepairedDamage'].astype('float64')\n",
    "X_test['notRepairedDamage'] = X_test['notRepairedDamage'].astype('float64')"
   ]
  },
  {
   "cell_type": "markdown",
   "metadata": {},
   "source": [
    "### 添加品牌信息"
   ]
  },
  {
   "cell_type": "code",
   "execution_count": 25,
   "metadata": {
    "ExecuteTime": {
     "end_time": "2021-04-24T15:47:35.342037Z",
     "start_time": "2021-04-24T15:47:35.178435Z"
    },
    "scrolled": true
   },
   "outputs": [],
   "source": [
    "# 处理品牌字段\n",
    "brand_data = train_data.groupby('brand')\n",
    "all_info = {}\n",
    "for brand_index, brand_temp in brand_data:\n",
    "    info = {}\n",
    "    brand_temp = brand_temp[brand_temp['price'] > 0]\n",
    "    info['brand_amount'] = len(brand_temp)\n",
    "    info['brand_price_max'] = brand_temp.price.max()\n",
    "    info['brand_price_min'] = brand_temp.price.min()\n",
    "    info['brand_price_median'] = brand_temp.price.median()\n",
    "    info['brand_price_mean'] = brand_temp.price.mean()\n",
    "    info['brand_price_std'] = brand_temp.price.std()\n",
    "    info['brand_price_ptp'] = info['brand_price_max'] - info['brand_price_min']\n",
    "    all_info[brand_index] = info"
   ]
  },
  {
   "cell_type": "code",
   "execution_count": 26,
   "metadata": {
    "ExecuteTime": {
     "end_time": "2021-04-24T15:47:40.016492Z",
     "start_time": "2021-04-24T15:47:39.973606Z"
    },
    "scrolled": true
   },
   "outputs": [
    {
     "data": {
      "text/html": [
       "<div>\n",
       "<style scoped>\n",
       "    .dataframe tbody tr th:only-of-type {\n",
       "        vertical-align: middle;\n",
       "    }\n",
       "\n",
       "    .dataframe tbody tr th {\n",
       "        vertical-align: top;\n",
       "    }\n",
       "\n",
       "    .dataframe thead th {\n",
       "        text-align: right;\n",
       "    }\n",
       "</style>\n",
       "<table border=\"1\" class=\"dataframe\">\n",
       "  <thead>\n",
       "    <tr style=\"text-align: right;\">\n",
       "      <th></th>\n",
       "      <th>brand</th>\n",
       "      <th>brand_amount</th>\n",
       "      <th>brand_price_max</th>\n",
       "      <th>brand_price_min</th>\n",
       "      <th>brand_price_median</th>\n",
       "      <th>brand_price_mean</th>\n",
       "      <th>brand_price_std</th>\n",
       "      <th>brand_price_ptp</th>\n",
       "    </tr>\n",
       "  </thead>\n",
       "  <tbody>\n",
       "    <tr>\n",
       "      <th>0</th>\n",
       "      <td>0</td>\n",
       "      <td>31480.0</td>\n",
       "      <td>68500.0</td>\n",
       "      <td>13.0</td>\n",
       "      <td>3199.0</td>\n",
       "      <td>5535.364994</td>\n",
       "      <td>6272.522119</td>\n",
       "      <td>68487.0</td>\n",
       "    </tr>\n",
       "    <tr>\n",
       "      <th>1</th>\n",
       "      <td>1</td>\n",
       "      <td>13794.0</td>\n",
       "      <td>99900.0</td>\n",
       "      <td>15.0</td>\n",
       "      <td>6499.0</td>\n",
       "      <td>9273.311947</td>\n",
       "      <td>9369.631497</td>\n",
       "      <td>99885.0</td>\n",
       "    </tr>\n",
       "    <tr>\n",
       "      <th>2</th>\n",
       "      <td>2</td>\n",
       "      <td>321.0</td>\n",
       "      <td>59800.0</td>\n",
       "      <td>35.0</td>\n",
       "      <td>7700.0</td>\n",
       "      <td>12037.822430</td>\n",
       "      <td>10875.892891</td>\n",
       "      <td>59765.0</td>\n",
       "    </tr>\n",
       "    <tr>\n",
       "      <th>3</th>\n",
       "      <td>3</td>\n",
       "      <td>2461.0</td>\n",
       "      <td>37500.0</td>\n",
       "      <td>65.0</td>\n",
       "      <td>4990.0</td>\n",
       "      <td>6482.822430</td>\n",
       "      <td>5396.327503</td>\n",
       "      <td>37435.0</td>\n",
       "    </tr>\n",
       "    <tr>\n",
       "      <th>4</th>\n",
       "      <td>4</td>\n",
       "      <td>16737.0</td>\n",
       "      <td>99999.0</td>\n",
       "      <td>12.0</td>\n",
       "      <td>6000.0</td>\n",
       "      <td>8538.788074</td>\n",
       "      <td>8472.393191</td>\n",
       "      <td>99987.0</td>\n",
       "    </tr>\n",
       "    <tr>\n",
       "      <th>5</th>\n",
       "      <td>5</td>\n",
       "      <td>4665.0</td>\n",
       "      <td>31500.0</td>\n",
       "      <td>20.0</td>\n",
       "      <td>2300.0</td>\n",
       "      <td>3306.349411</td>\n",
       "      <td>3343.624586</td>\n",
       "      <td>31480.0</td>\n",
       "    </tr>\n",
       "    <tr>\n",
       "      <th>6</th>\n",
       "      <td>6</td>\n",
       "      <td>10217.0</td>\n",
       "      <td>59900.0</td>\n",
       "      <td>13.0</td>\n",
       "      <td>1800.0</td>\n",
       "      <td>3611.840266</td>\n",
       "      <td>4681.293524</td>\n",
       "      <td>59887.0</td>\n",
       "    </tr>\n",
       "    <tr>\n",
       "      <th>7</th>\n",
       "      <td>7</td>\n",
       "      <td>2361.0</td>\n",
       "      <td>38900.0</td>\n",
       "      <td>60.0</td>\n",
       "      <td>2600.0</td>\n",
       "      <td>4196.064803</td>\n",
       "      <td>4752.032776</td>\n",
       "      <td>38840.0</td>\n",
       "    </tr>\n",
       "    <tr>\n",
       "      <th>8</th>\n",
       "      <td>8</td>\n",
       "      <td>2077.0</td>\n",
       "      <td>99999.0</td>\n",
       "      <td>30.0</td>\n",
       "      <td>2299.0</td>\n",
       "      <td>4900.515166</td>\n",
       "      <td>6227.035419</td>\n",
       "      <td>99969.0</td>\n",
       "    </tr>\n",
       "    <tr>\n",
       "      <th>9</th>\n",
       "      <td>9</td>\n",
       "      <td>7306.0</td>\n",
       "      <td>68530.0</td>\n",
       "      <td>50.0</td>\n",
       "      <td>1400.0</td>\n",
       "      <td>2438.274843</td>\n",
       "      <td>2974.272776</td>\n",
       "      <td>68480.0</td>\n",
       "    </tr>\n",
       "    <tr>\n",
       "      <th>10</th>\n",
       "      <td>10</td>\n",
       "      <td>14249.0</td>\n",
       "      <td>98000.0</td>\n",
       "      <td>15.0</td>\n",
       "      <td>5400.0</td>\n",
       "      <td>8470.804197</td>\n",
       "      <td>8988.307535</td>\n",
       "      <td>97985.0</td>\n",
       "    </tr>\n",
       "    <tr>\n",
       "      <th>11</th>\n",
       "      <td>11</td>\n",
       "      <td>2945.0</td>\n",
       "      <td>34500.0</td>\n",
       "      <td>30.0</td>\n",
       "      <td>2900.0</td>\n",
       "      <td>4549.730390</td>\n",
       "      <td>4721.824690</td>\n",
       "      <td>34470.0</td>\n",
       "    </tr>\n",
       "    <tr>\n",
       "      <th>12</th>\n",
       "      <td>12</td>\n",
       "      <td>1109.0</td>\n",
       "      <td>27490.0</td>\n",
       "      <td>50.0</td>\n",
       "      <td>2600.0</td>\n",
       "      <td>4053.789901</td>\n",
       "      <td>4065.936442</td>\n",
       "      <td>27440.0</td>\n",
       "    </tr>\n",
       "    <tr>\n",
       "      <th>13</th>\n",
       "      <td>13</td>\n",
       "      <td>3817.0</td>\n",
       "      <td>35000.0</td>\n",
       "      <td>20.0</td>\n",
       "      <td>1600.0</td>\n",
       "      <td>2799.957820</td>\n",
       "      <td>3073.303355</td>\n",
       "      <td>34980.0</td>\n",
       "    </tr>\n",
       "    <tr>\n",
       "      <th>14</th>\n",
       "      <td>14</td>\n",
       "      <td>16089.0</td>\n",
       "      <td>38990.0</td>\n",
       "      <td>12.0</td>\n",
       "      <td>1700.0</td>\n",
       "      <td>3052.660203</td>\n",
       "      <td>3605.240255</td>\n",
       "      <td>38978.0</td>\n",
       "    </tr>\n",
       "    <tr>\n",
       "      <th>15</th>\n",
       "      <td>15</td>\n",
       "      <td>1458.0</td>\n",
       "      <td>45000.0</td>\n",
       "      <td>100.0</td>\n",
       "      <td>8500.0</td>\n",
       "      <td>9858.582990</td>\n",
       "      <td>5425.058140</td>\n",
       "      <td>44900.0</td>\n",
       "    </tr>\n",
       "    <tr>\n",
       "      <th>16</th>\n",
       "      <td>16</td>\n",
       "      <td>2223.0</td>\n",
       "      <td>17900.0</td>\n",
       "      <td>20.0</td>\n",
       "      <td>2999.0</td>\n",
       "      <td>3644.445344</td>\n",
       "      <td>2462.624483</td>\n",
       "      <td>17880.0</td>\n",
       "    </tr>\n",
       "    <tr>\n",
       "      <th>17</th>\n",
       "      <td>17</td>\n",
       "      <td>913.0</td>\n",
       "      <td>55800.0</td>\n",
       "      <td>15.0</td>\n",
       "      <td>2200.0</td>\n",
       "      <td>3645.869660</td>\n",
       "      <td>3952.913330</td>\n",
       "      <td>55785.0</td>\n",
       "    </tr>\n",
       "    <tr>\n",
       "      <th>18</th>\n",
       "      <td>18</td>\n",
       "      <td>316.0</td>\n",
       "      <td>34599.0</td>\n",
       "      <td>50.0</td>\n",
       "      <td>1999.0</td>\n",
       "      <td>4872.620253</td>\n",
       "      <td>6410.827425</td>\n",
       "      <td>34549.0</td>\n",
       "    </tr>\n",
       "    <tr>\n",
       "      <th>19</th>\n",
       "      <td>19</td>\n",
       "      <td>1388.0</td>\n",
       "      <td>42350.0</td>\n",
       "      <td>20.0</td>\n",
       "      <td>2800.0</td>\n",
       "      <td>5209.213256</td>\n",
       "      <td>6184.097329</td>\n",
       "      <td>42330.0</td>\n",
       "    </tr>\n",
       "    <tr>\n",
       "      <th>20</th>\n",
       "      <td>20</td>\n",
       "      <td>1236.0</td>\n",
       "      <td>37800.0</td>\n",
       "      <td>15.0</td>\n",
       "      <td>1770.0</td>\n",
       "      <td>3475.596278</td>\n",
       "      <td>4398.760852</td>\n",
       "      <td>37785.0</td>\n",
       "    </tr>\n",
       "    <tr>\n",
       "      <th>21</th>\n",
       "      <td>21</td>\n",
       "      <td>1547.0</td>\n",
       "      <td>35999.0</td>\n",
       "      <td>50.0</td>\n",
       "      <td>4200.0</td>\n",
       "      <td>5725.553329</td>\n",
       "      <td>5256.938631</td>\n",
       "      <td>35949.0</td>\n",
       "    </tr>\n",
       "    <tr>\n",
       "      <th>22</th>\n",
       "      <td>22</td>\n",
       "      <td>1085.0</td>\n",
       "      <td>43900.0</td>\n",
       "      <td>50.0</td>\n",
       "      <td>3950.0</td>\n",
       "      <td>6030.807373</td>\n",
       "      <td>5877.140886</td>\n",
       "      <td>43850.0</td>\n",
       "    </tr>\n",
       "    <tr>\n",
       "      <th>23</th>\n",
       "      <td>23</td>\n",
       "      <td>186.0</td>\n",
       "      <td>64000.0</td>\n",
       "      <td>99.0</td>\n",
       "      <td>1200.0</td>\n",
       "      <td>3217.913978</td>\n",
       "      <td>7282.590636</td>\n",
       "      <td>63901.0</td>\n",
       "    </tr>\n",
       "    <tr>\n",
       "      <th>24</th>\n",
       "      <td>24</td>\n",
       "      <td>772.0</td>\n",
       "      <td>99999.0</td>\n",
       "      <td>15.0</td>\n",
       "      <td>29990.0</td>\n",
       "      <td>36202.211140</td>\n",
       "      <td>22631.173477</td>\n",
       "      <td>99984.0</td>\n",
       "    </tr>\n",
       "    <tr>\n",
       "      <th>25</th>\n",
       "      <td>25</td>\n",
       "      <td>2064.0</td>\n",
       "      <td>22500.0</td>\n",
       "      <td>25.0</td>\n",
       "      <td>2500.0</td>\n",
       "      <td>3647.449612</td>\n",
       "      <td>3552.833963</td>\n",
       "      <td>22475.0</td>\n",
       "    </tr>\n",
       "    <tr>\n",
       "      <th>26</th>\n",
       "      <td>26</td>\n",
       "      <td>966.0</td>\n",
       "      <td>99999.0</td>\n",
       "      <td>11.0</td>\n",
       "      <td>5872.5</td>\n",
       "      <td>11486.618012</td>\n",
       "      <td>15926.170895</td>\n",
       "      <td>99988.0</td>\n",
       "    </tr>\n",
       "    <tr>\n",
       "      <th>27</th>\n",
       "      <td>27</td>\n",
       "      <td>2053.0</td>\n",
       "      <td>62900.0</td>\n",
       "      <td>35.0</td>\n",
       "      <td>4200.0</td>\n",
       "      <td>5305.990745</td>\n",
       "      <td>4855.377677</td>\n",
       "      <td>62865.0</td>\n",
       "    </tr>\n",
       "    <tr>\n",
       "      <th>28</th>\n",
       "      <td>28</td>\n",
       "      <td>649.0</td>\n",
       "      <td>44900.0</td>\n",
       "      <td>80.0</td>\n",
       "      <td>3900.0</td>\n",
       "      <td>5798.372881</td>\n",
       "      <td>5702.771797</td>\n",
       "      <td>44820.0</td>\n",
       "    </tr>\n",
       "    <tr>\n",
       "      <th>29</th>\n",
       "      <td>29</td>\n",
       "      <td>406.0</td>\n",
       "      <td>19990.0</td>\n",
       "      <td>500.0</td>\n",
       "      <td>5250.0</td>\n",
       "      <td>6056.719212</td>\n",
       "      <td>3639.737722</td>\n",
       "      <td>19490.0</td>\n",
       "    </tr>\n",
       "    <tr>\n",
       "      <th>30</th>\n",
       "      <td>30</td>\n",
       "      <td>940.0</td>\n",
       "      <td>23200.0</td>\n",
       "      <td>50.0</td>\n",
       "      <td>3295.0</td>\n",
       "      <td>4190.579787</td>\n",
       "      <td>3659.577291</td>\n",
       "      <td>23150.0</td>\n",
       "    </tr>\n",
       "    <tr>\n",
       "      <th>31</th>\n",
       "      <td>31</td>\n",
       "      <td>318.0</td>\n",
       "      <td>11000.0</td>\n",
       "      <td>50.0</td>\n",
       "      <td>1000.0</td>\n",
       "      <td>1761.493711</td>\n",
       "      <td>1829.079211</td>\n",
       "      <td>10950.0</td>\n",
       "    </tr>\n",
       "    <tr>\n",
       "      <th>32</th>\n",
       "      <td>32</td>\n",
       "      <td>592.0</td>\n",
       "      <td>33500.0</td>\n",
       "      <td>50.0</td>\n",
       "      <td>2399.5</td>\n",
       "      <td>4119.569257</td>\n",
       "      <td>4567.345304</td>\n",
       "      <td>33450.0</td>\n",
       "    </tr>\n",
       "    <tr>\n",
       "      <th>33</th>\n",
       "      <td>33</td>\n",
       "      <td>218.0</td>\n",
       "      <td>83990.0</td>\n",
       "      <td>980.0</td>\n",
       "      <td>5925.0</td>\n",
       "      <td>11243.403670</td>\n",
       "      <td>13491.013523</td>\n",
       "      <td>83010.0</td>\n",
       "    </tr>\n",
       "    <tr>\n",
       "      <th>34</th>\n",
       "      <td>34</td>\n",
       "      <td>227.0</td>\n",
       "      <td>2900.0</td>\n",
       "      <td>60.0</td>\n",
       "      <td>999.0</td>\n",
       "      <td>1021.039648</td>\n",
       "      <td>554.118445</td>\n",
       "      <td>2840.0</td>\n",
       "    </tr>\n",
       "    <tr>\n",
       "      <th>35</th>\n",
       "      <td>35</td>\n",
       "      <td>180.0</td>\n",
       "      <td>28900.0</td>\n",
       "      <td>50.0</td>\n",
       "      <td>950.0</td>\n",
       "      <td>1655.427778</td>\n",
       "      <td>3325.933365</td>\n",
       "      <td>28850.0</td>\n",
       "    </tr>\n",
       "    <tr>\n",
       "      <th>36</th>\n",
       "      <td>36</td>\n",
       "      <td>228.0</td>\n",
       "      <td>20900.0</td>\n",
       "      <td>150.0</td>\n",
       "      <td>2250.0</td>\n",
       "      <td>3578.951754</td>\n",
       "      <td>3922.715389</td>\n",
       "      <td>20750.0</td>\n",
       "    </tr>\n",
       "    <tr>\n",
       "      <th>37</th>\n",
       "      <td>37</td>\n",
       "      <td>333.0</td>\n",
       "      <td>86500.0</td>\n",
       "      <td>550.0</td>\n",
       "      <td>13400.0</td>\n",
       "      <td>16300.129129</td>\n",
       "      <td>13542.028622</td>\n",
       "      <td>85950.0</td>\n",
       "    </tr>\n",
       "    <tr>\n",
       "      <th>38</th>\n",
       "      <td>38</td>\n",
       "      <td>65.0</td>\n",
       "      <td>8999.0</td>\n",
       "      <td>99.0</td>\n",
       "      <td>2850.0</td>\n",
       "      <td>3317.230769</td>\n",
       "      <td>2140.083145</td>\n",
       "      <td>8900.0</td>\n",
       "    </tr>\n",
       "    <tr>\n",
       "      <th>39</th>\n",
       "      <td>39</td>\n",
       "      <td>9.0</td>\n",
       "      <td>14500.0</td>\n",
       "      <td>750.0</td>\n",
       "      <td>1900.0</td>\n",
       "      <td>4386.666667</td>\n",
       "      <td>5520.867233</td>\n",
       "      <td>13750.0</td>\n",
       "    </tr>\n",
       "  </tbody>\n",
       "</table>\n",
       "</div>"
      ],
      "text/plain": [
       "    brand  brand_amount  brand_price_max  brand_price_min  brand_price_median  \\\n",
       "0       0       31480.0          68500.0             13.0              3199.0   \n",
       "1       1       13794.0          99900.0             15.0              6499.0   \n",
       "2       2         321.0          59800.0             35.0              7700.0   \n",
       "3       3        2461.0          37500.0             65.0              4990.0   \n",
       "4       4       16737.0          99999.0             12.0              6000.0   \n",
       "5       5        4665.0          31500.0             20.0              2300.0   \n",
       "6       6       10217.0          59900.0             13.0              1800.0   \n",
       "7       7        2361.0          38900.0             60.0              2600.0   \n",
       "8       8        2077.0          99999.0             30.0              2299.0   \n",
       "9       9        7306.0          68530.0             50.0              1400.0   \n",
       "10     10       14249.0          98000.0             15.0              5400.0   \n",
       "11     11        2945.0          34500.0             30.0              2900.0   \n",
       "12     12        1109.0          27490.0             50.0              2600.0   \n",
       "13     13        3817.0          35000.0             20.0              1600.0   \n",
       "14     14       16089.0          38990.0             12.0              1700.0   \n",
       "15     15        1458.0          45000.0            100.0              8500.0   \n",
       "16     16        2223.0          17900.0             20.0              2999.0   \n",
       "17     17         913.0          55800.0             15.0              2200.0   \n",
       "18     18         316.0          34599.0             50.0              1999.0   \n",
       "19     19        1388.0          42350.0             20.0              2800.0   \n",
       "20     20        1236.0          37800.0             15.0              1770.0   \n",
       "21     21        1547.0          35999.0             50.0              4200.0   \n",
       "22     22        1085.0          43900.0             50.0              3950.0   \n",
       "23     23         186.0          64000.0             99.0              1200.0   \n",
       "24     24         772.0          99999.0             15.0             29990.0   \n",
       "25     25        2064.0          22500.0             25.0              2500.0   \n",
       "26     26         966.0          99999.0             11.0              5872.5   \n",
       "27     27        2053.0          62900.0             35.0              4200.0   \n",
       "28     28         649.0          44900.0             80.0              3900.0   \n",
       "29     29         406.0          19990.0            500.0              5250.0   \n",
       "30     30         940.0          23200.0             50.0              3295.0   \n",
       "31     31         318.0          11000.0             50.0              1000.0   \n",
       "32     32         592.0          33500.0             50.0              2399.5   \n",
       "33     33         218.0          83990.0            980.0              5925.0   \n",
       "34     34         227.0           2900.0             60.0               999.0   \n",
       "35     35         180.0          28900.0             50.0               950.0   \n",
       "36     36         228.0          20900.0            150.0              2250.0   \n",
       "37     37         333.0          86500.0            550.0             13400.0   \n",
       "38     38          65.0           8999.0             99.0              2850.0   \n",
       "39     39           9.0          14500.0            750.0              1900.0   \n",
       "\n",
       "    brand_price_mean  brand_price_std  brand_price_ptp  \n",
       "0        5535.364994      6272.522119          68487.0  \n",
       "1        9273.311947      9369.631497          99885.0  \n",
       "2       12037.822430     10875.892891          59765.0  \n",
       "3        6482.822430      5396.327503          37435.0  \n",
       "4        8538.788074      8472.393191          99987.0  \n",
       "5        3306.349411      3343.624586          31480.0  \n",
       "6        3611.840266      4681.293524          59887.0  \n",
       "7        4196.064803      4752.032776          38840.0  \n",
       "8        4900.515166      6227.035419          99969.0  \n",
       "9        2438.274843      2974.272776          68480.0  \n",
       "10       8470.804197      8988.307535          97985.0  \n",
       "11       4549.730390      4721.824690          34470.0  \n",
       "12       4053.789901      4065.936442          27440.0  \n",
       "13       2799.957820      3073.303355          34980.0  \n",
       "14       3052.660203      3605.240255          38978.0  \n",
       "15       9858.582990      5425.058140          44900.0  \n",
       "16       3644.445344      2462.624483          17880.0  \n",
       "17       3645.869660      3952.913330          55785.0  \n",
       "18       4872.620253      6410.827425          34549.0  \n",
       "19       5209.213256      6184.097329          42330.0  \n",
       "20       3475.596278      4398.760852          37785.0  \n",
       "21       5725.553329      5256.938631          35949.0  \n",
       "22       6030.807373      5877.140886          43850.0  \n",
       "23       3217.913978      7282.590636          63901.0  \n",
       "24      36202.211140     22631.173477          99984.0  \n",
       "25       3647.449612      3552.833963          22475.0  \n",
       "26      11486.618012     15926.170895          99988.0  \n",
       "27       5305.990745      4855.377677          62865.0  \n",
       "28       5798.372881      5702.771797          44820.0  \n",
       "29       6056.719212      3639.737722          19490.0  \n",
       "30       4190.579787      3659.577291          23150.0  \n",
       "31       1761.493711      1829.079211          10950.0  \n",
       "32       4119.569257      4567.345304          33450.0  \n",
       "33      11243.403670     13491.013523          83010.0  \n",
       "34       1021.039648       554.118445           2840.0  \n",
       "35       1655.427778      3325.933365          28850.0  \n",
       "36       3578.951754      3922.715389          20750.0  \n",
       "37      16300.129129     13542.028622          85950.0  \n",
       "38       3317.230769      2140.083145           8900.0  \n",
       "39       4386.666667      5520.867233          13750.0  "
      ]
     },
     "execution_count": 26,
     "metadata": {},
     "output_type": "execute_result"
    }
   ],
   "source": [
    "df_brand = pd.DataFrame(all_info).T\n",
    "df_brand = df_brand.reset_index()\n",
    "df_brand.rename(columns={'index':'brand'}, inplace=True)\n",
    "df_brand"
   ]
  },
  {
   "cell_type": "code",
   "execution_count": 27,
   "metadata": {
    "ExecuteTime": {
     "end_time": "2021-04-24T15:47:43.874172Z",
     "start_time": "2021-04-24T15:47:43.642790Z"
    }
   },
   "outputs": [],
   "source": [
    "# brand_stats = pd.DataFrame(all_info).T.reset_index().rename(columns={'index':'brand'})\n",
    "train_data = train_data.merge(df_brand, how='left', on='brand')\n",
    "test_data = test_data.merge(df_brand, how='left', on='brand')"
   ]
  },
  {
   "cell_type": "code",
   "execution_count": 28,
   "metadata": {
    "ExecuteTime": {
     "end_time": "2021-04-24T15:47:45.187657Z",
     "start_time": "2021-04-24T15:47:45.176687Z"
    }
   },
   "outputs": [
    {
     "name": "stdout",
     "output_type": "stream",
     "text": [
      "['regDate', 'model', 'brand', 'bodyType', 'fuelType', 'gearbox', 'power', 'kilometer', 'notRepairedDamage', 'regionCode', 'seller', 'offerType', 'creatDate', 'v_0', 'v_1', 'v_2', 'v_3', 'v_4', 'v_5', 'v_6', 'v_7', 'v_8', 'v_9', 'v_10', 'v_11', 'v_12', 'v_13', 'v_14', 'regDate_year', 'creatDate_year']\n"
     ]
    }
   ],
   "source": [
    "print(feature_cols)"
   ]
  },
  {
   "cell_type": "code",
   "execution_count": 29,
   "metadata": {
    "ExecuteTime": {
     "end_time": "2021-04-24T15:47:48.078955Z",
     "start_time": "2021-04-24T15:47:48.062964Z"
    }
   },
   "outputs": [
    {
     "name": "stdout",
     "output_type": "stream",
     "text": [
      "['model', 'brand', 'bodyType', 'fuelType', 'gearbox', 'power', 'kilometer', 'notRepairedDamage', 'regionCode', 'seller', 'offerType', 'v_0', 'v_1', 'v_2', 'v_3', 'v_4', 'v_5', 'v_6', 'v_7', 'v_8', 'v_9', 'v_10', 'v_11', 'v_12', 'v_13', 'v_14', 'creatDate_year', 'regDate_year', 'regDate_month', 'regDate_day', 'creatDate_month', 'creatDate_day', 'regDate_diff', 'brand_amount', 'brand_price_max', 'brand_price_min', 'brand_price_median', 'brand_price_mean', 'brand_price_std', 'brand_price_ptp']\n"
     ]
    }
   ],
   "source": [
    "cols = train_data.columns.tolist()\n",
    "cols.remove('creatDate')\n",
    "cols.remove('SaleID')\n",
    "cols.remove('regDate')\n",
    "cols.remove('price')\n",
    "cols.remove('name')\n",
    "print(cols)"
   ]
  },
  {
   "cell_type": "markdown",
   "metadata": {},
   "source": [
    "## 构造模型"
   ]
  },
  {
   "cell_type": "code",
   "execution_count": 30,
   "metadata": {
    "ExecuteTime": {
     "end_time": "2021-04-24T15:47:54.751076Z",
     "start_time": "2021-04-24T15:47:54.459853Z"
    }
   },
   "outputs": [],
   "source": [
    "from sklearn.model_selection import train_test_split\n",
    "from sklearn.metrics import mean_absolute_error\n",
    "import xgboost as xgb"
   ]
  },
  {
   "cell_type": "code",
   "execution_count": 31,
   "metadata": {
    "ExecuteTime": {
     "end_time": "2021-04-24T15:47:56.535464Z",
     "start_time": "2021-04-24T15:47:56.413625Z"
    }
   },
   "outputs": [],
   "source": [
    "X_data = train_data[cols]\n",
    "Y_data = train_data['price']\n",
    "X_test = test_data[cols]"
   ]
  },
  {
   "cell_type": "code",
   "execution_count": 32,
   "metadata": {
    "ExecuteTime": {
     "end_time": "2021-04-24T15:47:57.625422Z",
     "start_time": "2021-04-24T15:47:57.569534Z"
    }
   },
   "outputs": [],
   "source": [
    "X_data['notRepairedDamage'] = X_data['notRepairedDamage'].astype('float64')\n",
    "X_test['notRepairedDamage'] = X_test['notRepairedDamage'].astype('float64')"
   ]
  },
  {
   "cell_type": "code",
   "execution_count": 33,
   "metadata": {
    "ExecuteTime": {
     "end_time": "2021-04-24T15:48:00.397009Z",
     "start_time": "2021-04-24T15:48:00.282276Z"
    }
   },
   "outputs": [],
   "source": [
    "# 数据集切分\n",
    "x_train, x_val, y_train, y_val = train_test_split(X_data, Y_data, test_size=0.2)"
   ]
  },
  {
   "cell_type": "markdown",
   "metadata": {},
   "source": [
    "**xgboost**"
   ]
  },
  {
   "cell_type": "code",
   "execution_count": 36,
   "metadata": {
    "ExecuteTime": {
     "end_time": "2021-04-24T14:14:30.662665Z",
     "start_time": "2021-04-24T14:14:30.647706Z"
    }
   },
   "outputs": [],
   "source": [
    "# 创建模型1\n",
    "model = xgb.XGBRegressor(n_estimators=150, learning_rate=0.1, gamma=0,\n",
    "                         subsample=0.8, colsample_bytree=0.8, max_depth=7,\n",
    "                         random_state=2021)"
   ]
  },
  {
   "cell_type": "code",
   "execution_count": 37,
   "metadata": {
    "ExecuteTime": {
     "end_time": "2021-04-24T14:14:57.704323Z",
     "start_time": "2021-04-24T14:14:32.695273Z"
    }
   },
   "outputs": [
    {
     "name": "stdout",
     "output_type": "stream",
     "text": [
      "xgb mae: 612.2227533308665\n"
     ]
    }
   ],
   "source": [
    "model.fit(x_train, y_train)\n",
    "y_pred = model.predict(x_val)\n",
    "mae = mean_absolute_error(y_val, y_pred)\n",
    "print('xgb mae:', mae)"
   ]
  },
  {
   "cell_type": "code",
   "execution_count": 34,
   "metadata": {
    "ExecuteTime": {
     "end_time": "2021-04-24T15:48:35.378387Z",
     "start_time": "2021-04-24T15:48:35.369446Z"
    }
   },
   "outputs": [],
   "source": [
    "# xgb 组合参数\n",
    "model = xgb.XGBRegressor(max_depth=6, learning_rate=0.05, n_estimators=2000,\n",
    "                         objective='reg:linear', tree_method='gpu_hist',\n",
    "                         subsample=0.8, colsample_bytree=0.8,\n",
    "                         min_child_samples=3, eval_metric='auc', reg_lambda=0.5)"
   ]
  },
  {
   "cell_type": "code",
   "execution_count": 35,
   "metadata": {
    "ExecuteTime": {
     "end_time": "2021-04-24T15:49:30.739322Z",
     "start_time": "2021-04-24T15:48:47.798162Z"
    },
    "scrolled": true
   },
   "outputs": [
    {
     "name": "stdout",
     "output_type": "stream",
     "text": [
      "[23:48:47] WARNING: C:/Users/Administrator/workspace/xgboost-win64_release_1.3.0/src/objective/regression_obj.cu:170: reg:linear is now deprecated in favor of reg:squarederror.\n",
      "[23:48:49] WARNING: C:/Users/Administrator/workspace/xgboost-win64_release_1.3.0/src/learner.cc:541: \n",
      "Parameters: { min_child_samples } might not be used.\n",
      "\n",
      "  This may not be accurate due to some parameters are only used in language bindings but\n",
      "  passed down to XGBoost core.  Or some parameters are not used but slip through this\n",
      "  verification. Please open an issue if you find above cases.\n",
      "\n",
      "\n"
     ]
    },
    {
     "data": {
      "text/plain": [
       "XGBRegressor(base_score=0.5, booster='gbtree', colsample_bylevel=1,\n",
       "             colsample_bynode=1, colsample_bytree=0.8, eval_metric='auc',\n",
       "             gamma=0, gpu_id=0, importance_type='gain',\n",
       "             interaction_constraints='', learning_rate=0.05, max_delta_step=0,\n",
       "             max_depth=6, min_child_samples=3, min_child_weight=1, missing=nan,\n",
       "             monotone_constraints='()', n_estimators=2000, n_jobs=4,\n",
       "             num_parallel_tree=1, objective='reg:linear', random_state=0,\n",
       "             reg_alpha=0, reg_lambda=0.5, scale_pos_weight=1, subsample=0.8,\n",
       "             tree_method='gpu_hist', validate_parameters=1, verbosity=None)"
      ]
     },
     "execution_count": 35,
     "metadata": {},
     "output_type": "execute_result"
    }
   ],
   "source": [
    "model.fit(X_data, Y_data)"
   ]
  },
  {
   "cell_type": "code",
   "execution_count": 36,
   "metadata": {
    "ExecuteTime": {
     "end_time": "2021-04-24T15:49:36.737239Z",
     "start_time": "2021-04-24T15:49:36.033136Z"
    }
   },
   "outputs": [],
   "source": [
    "y_pred = model.predict(X_test[cols])"
   ]
  },
  {
   "cell_type": "code",
   "execution_count": 37,
   "metadata": {
    "ExecuteTime": {
     "end_time": "2021-04-24T15:49:37.743574Z",
     "start_time": "2021-04-24T15:49:37.723601Z"
    },
    "scrolled": false
   },
   "outputs": [
    {
     "name": "stdout",
     "output_type": "stream",
     "text": [
      "min:  -1264.7198\n",
      "max:  91061.734\n",
      "ptp:  92326.45\n",
      "mean:  5950.64\n",
      "std:  7423.3623\n",
      "var:  55106308.0\n"
     ]
    }
   ],
   "source": [
    "# 训练 欠拟合 => n_estimators太小，或者 learning_rate太小\n",
    "show_stats(y_pred)"
   ]
  },
  {
   "cell_type": "code",
   "execution_count": 39,
   "metadata": {
    "ExecuteTime": {
     "end_time": "2021-04-24T15:49:46.939978Z",
     "start_time": "2021-04-24T15:49:46.910063Z"
    },
    "scrolled": false
   },
   "outputs": [
    {
     "data": {
      "text/html": [
       "<div>\n",
       "<style scoped>\n",
       "    .dataframe tbody tr th:only-of-type {\n",
       "        vertical-align: middle;\n",
       "    }\n",
       "\n",
       "    .dataframe tbody tr th {\n",
       "        vertical-align: top;\n",
       "    }\n",
       "\n",
       "    .dataframe thead th {\n",
       "        text-align: right;\n",
       "    }\n",
       "</style>\n",
       "<table border=\"1\" class=\"dataframe\">\n",
       "  <thead>\n",
       "    <tr style=\"text-align: right;\">\n",
       "      <th></th>\n",
       "      <th>SaleID</th>\n",
       "      <th>price</th>\n",
       "    </tr>\n",
       "  </thead>\n",
       "  <tbody>\n",
       "    <tr>\n",
       "      <th>0</th>\n",
       "      <td>200000</td>\n",
       "      <td>1298.507935</td>\n",
       "    </tr>\n",
       "    <tr>\n",
       "      <th>1</th>\n",
       "      <td>200001</td>\n",
       "      <td>1826.747192</td>\n",
       "    </tr>\n",
       "    <tr>\n",
       "      <th>2</th>\n",
       "      <td>200002</td>\n",
       "      <td>8398.540039</td>\n",
       "    </tr>\n",
       "    <tr>\n",
       "      <th>3</th>\n",
       "      <td>200003</td>\n",
       "      <td>1223.487061</td>\n",
       "    </tr>\n",
       "    <tr>\n",
       "      <th>4</th>\n",
       "      <td>200004</td>\n",
       "      <td>2086.377930</td>\n",
       "    </tr>\n",
       "    <tr>\n",
       "      <th>...</th>\n",
       "      <td>...</td>\n",
       "      <td>...</td>\n",
       "    </tr>\n",
       "    <tr>\n",
       "      <th>49995</th>\n",
       "      <td>249995</td>\n",
       "      <td>6683.768555</td>\n",
       "    </tr>\n",
       "    <tr>\n",
       "      <th>49996</th>\n",
       "      <td>249996</td>\n",
       "      <td>18572.890625</td>\n",
       "    </tr>\n",
       "    <tr>\n",
       "      <th>49997</th>\n",
       "      <td>249997</td>\n",
       "      <td>5939.886230</td>\n",
       "    </tr>\n",
       "    <tr>\n",
       "      <th>49998</th>\n",
       "      <td>249998</td>\n",
       "      <td>5189.446777</td>\n",
       "    </tr>\n",
       "    <tr>\n",
       "      <th>49999</th>\n",
       "      <td>249999</td>\n",
       "      <td>5482.959961</td>\n",
       "    </tr>\n",
       "  </tbody>\n",
       "</table>\n",
       "<p>50000 rows × 2 columns</p>\n",
       "</div>"
      ],
      "text/plain": [
       "       SaleID         price\n",
       "0      200000   1298.507935\n",
       "1      200001   1826.747192\n",
       "2      200002   8398.540039\n",
       "3      200003   1223.487061\n",
       "4      200004   2086.377930\n",
       "...       ...           ...\n",
       "49995  249995   6683.768555\n",
       "49996  249996  18572.890625\n",
       "49997  249997   5939.886230\n",
       "49998  249998   5189.446777\n",
       "49999  249999   5482.959961\n",
       "\n",
       "[50000 rows x 2 columns]"
      ]
     },
     "execution_count": 39,
     "metadata": {},
     "output_type": "execute_result"
    }
   ],
   "source": [
    "# 因为XGBoost是集成学习，多棵树组成\n",
    "# 有些树的叶子节点 有可能为负\n",
    "result = pd.DataFrame()\n",
    "result['SaleID'] = test_data['SaleID']\n",
    "result['price'] = y_pred\n",
    "result[result['price'] < 0] = 11\n",
    "result"
   ]
  },
  {
   "cell_type": "code",
   "execution_count": 40,
   "metadata": {
    "ExecuteTime": {
     "end_time": "2021-04-24T15:49:50.729808Z",
     "start_time": "2021-04-24T15:49:50.690912Z"
    }
   },
   "outputs": [],
   "source": [
    "submit = pd.read_csv(\"./used_car_sample_submit.csv\", sep = ',')"
   ]
  },
  {
   "cell_type": "code",
   "execution_count": 41,
   "metadata": {
    "ExecuteTime": {
     "end_time": "2021-04-24T15:49:52.578861Z",
     "start_time": "2021-04-24T15:49:52.568923Z"
    }
   },
   "outputs": [],
   "source": [
    "result['SaleID'] = submit['SaleID']"
   ]
  },
  {
   "cell_type": "code",
   "execution_count": 42,
   "metadata": {
    "ExecuteTime": {
     "end_time": "2021-04-24T15:50:16.296573Z",
     "start_time": "2021-04-24T15:50:15.821682Z"
    }
   },
   "outputs": [],
   "source": [
    "result.to_csv('./submission/baseline_xgb_20210424_2.csv', index=False)"
   ]
  },
  {
   "cell_type": "markdown",
   "metadata": {},
   "source": [
    "**xgb的五折交叉验证**"
   ]
  },
  {
   "cell_type": "code",
   "execution_count": 43,
   "metadata": {
    "ExecuteTime": {
     "end_time": "2021-04-24T15:51:28.456405Z",
     "start_time": "2021-04-24T15:51:28.439448Z"
    }
   },
   "outputs": [],
   "source": [
    "from sklearn.model_selection import StratifiedKFold"
   ]
  },
  {
   "cell_type": "code",
   "execution_count": 44,
   "metadata": {
    "ExecuteTime": {
     "end_time": "2021-04-24T15:51:31.689720Z",
     "start_time": "2021-04-24T15:51:31.669773Z"
    }
   },
   "outputs": [],
   "source": [
    "def ensemble_model(clf, train_x, train_y, test):\n",
    "    # 做五折交叉验证\n",
    "    sk = StratifiedKFold(n_splits=5, shuffle=True, random_state=2021)\n",
    "    result= []\n",
    "    mean_mae = 0\n",
    "    for k, (train_index, val_index) in enumerate(sk.split(train_x, train_y)):\n",
    "        train_x_real = train_x.iloc[train_index]\n",
    "        train_y_real = train_y.iloc[train_index]\n",
    "        val_x = train_x.iloc[val_index]\n",
    "        val_y = train_y.iloc[val_index]\n",
    "        \n",
    "        clf = clf.fit(train_x_real, train_y_real)\n",
    "        val_y_pred = clf.predict(val_x)\n",
    "        \n",
    "        mae_val = mean_absolute_error(val_y, val_y_pred)\n",
    "        print('第{}个子模型MAE:{}'.format(k+1, mae_val))\n",
    "        mean_mae += mae_val / 5\n",
    "        # 子模型预测测试集\n",
    "        test_y_pred = clf.predict(test)\n",
    "        result.append(test_y_pred)\n",
    "    print(mean_mae)\n",
    "    mean_result = sum(result) / 5\n",
    "    return mean_result"
   ]
  },
  {
   "cell_type": "code",
   "execution_count": 45,
   "metadata": {
    "ExecuteTime": {
     "end_time": "2021-04-24T15:51:34.001570Z",
     "start_time": "2021-04-24T15:51:33.982587Z"
    }
   },
   "outputs": [],
   "source": [
    "model_xgb = xgb.XGBRegressor(max_depth=6, learning_rate=0.05, n_estimators=2000,\n",
    "                         objective='reg:linear', tree_method='gpu_hist',\n",
    "                         subsample=0.8, colsample_bytree=0.8,\n",
    "                         min_child_samples=3, eval_metric='auc', reg_lambda=0.5)"
   ]
  },
  {
   "cell_type": "code",
   "execution_count": 46,
   "metadata": {
    "ExecuteTime": {
     "end_time": "2021-04-24T15:54:50.058045Z",
     "start_time": "2021-04-24T15:51:37.387477Z"
    }
   },
   "outputs": [
    {
     "name": "stdout",
     "output_type": "stream",
     "text": [
      "[23:51:38] WARNING: C:/Users/Administrator/workspace/xgboost-win64_release_1.3.0/src/objective/regression_obj.cu:170: reg:linear is now deprecated in favor of reg:squarederror.\n",
      "[23:51:38] WARNING: C:/Users/Administrator/workspace/xgboost-win64_release_1.3.0/src/learner.cc:541: \n",
      "Parameters: { min_child_samples } might not be used.\n",
      "\n",
      "  This may not be accurate due to some parameters are only used in language bindings but\n",
      "  passed down to XGBoost core.  Or some parameters are not used but slip through this\n",
      "  verification. Please open an issue if you find above cases.\n",
      "\n",
      "\n",
      "第1个子模型MAE:528.6467209724386\n",
      "[23:52:17] WARNING: C:/Users/Administrator/workspace/xgboost-win64_release_1.3.0/src/objective/regression_obj.cu:170: reg:linear is now deprecated in favor of reg:squarederror.\n",
      "[23:52:17] WARNING: C:/Users/Administrator/workspace/xgboost-win64_release_1.3.0/src/learner.cc:541: \n",
      "Parameters: { min_child_samples } might not be used.\n",
      "\n",
      "  This may not be accurate due to some parameters are only used in language bindings but\n",
      "  passed down to XGBoost core.  Or some parameters are not used but slip through this\n",
      "  verification. Please open an issue if you find above cases.\n",
      "\n",
      "\n",
      "第2个子模型MAE:542.0057867818991\n",
      "[23:52:55] WARNING: C:/Users/Administrator/workspace/xgboost-win64_release_1.3.0/src/objective/regression_obj.cu:170: reg:linear is now deprecated in favor of reg:squarederror.\n",
      "[23:52:55] WARNING: C:/Users/Administrator/workspace/xgboost-win64_release_1.3.0/src/learner.cc:541: \n",
      "Parameters: { min_child_samples } might not be used.\n",
      "\n",
      "  This may not be accurate due to some parameters are only used in language bindings but\n",
      "  passed down to XGBoost core.  Or some parameters are not used but slip through this\n",
      "  verification. Please open an issue if you find above cases.\n",
      "\n",
      "\n",
      "第3个子模型MAE:535.6378787436962\n",
      "[23:53:34] WARNING: C:/Users/Administrator/workspace/xgboost-win64_release_1.3.0/src/objective/regression_obj.cu:170: reg:linear is now deprecated in favor of reg:squarederror.\n",
      "[23:53:34] WARNING: C:/Users/Administrator/workspace/xgboost-win64_release_1.3.0/src/learner.cc:541: \n",
      "Parameters: { min_child_samples } might not be used.\n",
      "\n",
      "  This may not be accurate due to some parameters are only used in language bindings but\n",
      "  passed down to XGBoost core.  Or some parameters are not used but slip through this\n",
      "  verification. Please open an issue if you find above cases.\n",
      "\n",
      "\n",
      "第4个子模型MAE:531.6492691411793\n",
      "[23:54:12] WARNING: C:/Users/Administrator/workspace/xgboost-win64_release_1.3.0/src/objective/regression_obj.cu:170: reg:linear is now deprecated in favor of reg:squarederror.\n",
      "[23:54:12] WARNING: C:/Users/Administrator/workspace/xgboost-win64_release_1.3.0/src/learner.cc:541: \n",
      "Parameters: { min_child_samples } might not be used.\n",
      "\n",
      "  This may not be accurate due to some parameters are only used in language bindings but\n",
      "  passed down to XGBoost core.  Or some parameters are not used but slip through this\n",
      "  verification. Please open an issue if you find above cases.\n",
      "\n",
      "\n",
      "第5个子模型MAE:533.839786952742\n",
      "534.3558885183911\n"
     ]
    }
   ],
   "source": [
    "y_pred_kf5 = ensemble_model(model_xgb, X_data, Y_data, X_test[cols])"
   ]
  },
  {
   "cell_type": "code",
   "execution_count": 47,
   "metadata": {
    "ExecuteTime": {
     "end_time": "2021-04-24T15:57:17.512575Z",
     "start_time": "2021-04-24T15:57:17.485648Z"
    }
   },
   "outputs": [
    {
     "data": {
      "text/html": [
       "<div>\n",
       "<style scoped>\n",
       "    .dataframe tbody tr th:only-of-type {\n",
       "        vertical-align: middle;\n",
       "    }\n",
       "\n",
       "    .dataframe tbody tr th {\n",
       "        vertical-align: top;\n",
       "    }\n",
       "\n",
       "    .dataframe thead th {\n",
       "        text-align: right;\n",
       "    }\n",
       "</style>\n",
       "<table border=\"1\" class=\"dataframe\">\n",
       "  <thead>\n",
       "    <tr style=\"text-align: right;\">\n",
       "      <th></th>\n",
       "      <th>SaleID</th>\n",
       "      <th>price</th>\n",
       "    </tr>\n",
       "  </thead>\n",
       "  <tbody>\n",
       "    <tr>\n",
       "      <th>0</th>\n",
       "      <td>200000</td>\n",
       "      <td>1283.145874</td>\n",
       "    </tr>\n",
       "    <tr>\n",
       "      <th>1</th>\n",
       "      <td>200001</td>\n",
       "      <td>1870.215210</td>\n",
       "    </tr>\n",
       "    <tr>\n",
       "      <th>2</th>\n",
       "      <td>200002</td>\n",
       "      <td>8528.859375</td>\n",
       "    </tr>\n",
       "    <tr>\n",
       "      <th>3</th>\n",
       "      <td>200003</td>\n",
       "      <td>1173.996460</td>\n",
       "    </tr>\n",
       "    <tr>\n",
       "      <th>4</th>\n",
       "      <td>200004</td>\n",
       "      <td>2019.751953</td>\n",
       "    </tr>\n",
       "    <tr>\n",
       "      <th>...</th>\n",
       "      <td>...</td>\n",
       "      <td>...</td>\n",
       "    </tr>\n",
       "    <tr>\n",
       "      <th>49995</th>\n",
       "      <td>249995</td>\n",
       "      <td>6781.395996</td>\n",
       "    </tr>\n",
       "    <tr>\n",
       "      <th>49996</th>\n",
       "      <td>249996</td>\n",
       "      <td>18528.486328</td>\n",
       "    </tr>\n",
       "    <tr>\n",
       "      <th>49997</th>\n",
       "      <td>249997</td>\n",
       "      <td>6014.521973</td>\n",
       "    </tr>\n",
       "    <tr>\n",
       "      <th>49998</th>\n",
       "      <td>249998</td>\n",
       "      <td>4973.518555</td>\n",
       "    </tr>\n",
       "    <tr>\n",
       "      <th>49999</th>\n",
       "      <td>249999</td>\n",
       "      <td>5400.228516</td>\n",
       "    </tr>\n",
       "  </tbody>\n",
       "</table>\n",
       "<p>50000 rows × 2 columns</p>\n",
       "</div>"
      ],
      "text/plain": [
       "       SaleID         price\n",
       "0      200000   1283.145874\n",
       "1      200001   1870.215210\n",
       "2      200002   8528.859375\n",
       "3      200003   1173.996460\n",
       "4      200004   2019.751953\n",
       "...       ...           ...\n",
       "49995  249995   6781.395996\n",
       "49996  249996  18528.486328\n",
       "49997  249997   6014.521973\n",
       "49998  249998   4973.518555\n",
       "49999  249999   5400.228516\n",
       "\n",
       "[50000 rows x 2 columns]"
      ]
     },
     "execution_count": 47,
     "metadata": {},
     "output_type": "execute_result"
    }
   ],
   "source": [
    "result = pd.DataFrame()\n",
    "result['SaleID'] = test_data['SaleID']\n",
    "result['price'] = y_pred_kf5\n",
    "result[result['price'] < 0] = 11\n",
    "result"
   ]
  },
  {
   "cell_type": "code",
   "execution_count": 48,
   "metadata": {
    "ExecuteTime": {
     "end_time": "2021-04-24T15:57:25.252906Z",
     "start_time": "2021-04-24T15:57:25.242895Z"
    }
   },
   "outputs": [],
   "source": [
    "result['SaleID'] = submit['SaleID']"
   ]
  },
  {
   "cell_type": "code",
   "execution_count": 49,
   "metadata": {
    "ExecuteTime": {
     "end_time": "2021-04-24T15:57:35.590250Z",
     "start_time": "2021-04-24T15:57:35.413687Z"
    }
   },
   "outputs": [],
   "source": [
    "result.to_csv('./submission/baseline_xgb_20210425_kf5.csv', index=False)"
   ]
  },
  {
   "cell_type": "code",
   "execution_count": null,
   "metadata": {},
   "outputs": [],
   "source": []
  }
 ],
 "metadata": {
  "kernelspec": {
   "display_name": "rs",
   "language": "python",
   "name": "rs"
  },
  "language_info": {
   "codemirror_mode": {
    "name": "ipython",
    "version": 3
   },
   "file_extension": ".py",
   "mimetype": "text/x-python",
   "name": "python",
   "nbconvert_exporter": "python",
   "pygments_lexer": "ipython3",
   "version": "3.8.5"
  },
  "toc": {
   "base_numbering": 1,
   "nav_menu": {},
   "number_sections": true,
   "sideBar": true,
   "skip_h1_title": false,
   "title_cell": "Table of Contents",
   "title_sidebar": "Contents",
   "toc_cell": false,
   "toc_position": {},
   "toc_section_display": true,
   "toc_window_display": false
  },
  "varInspector": {
   "cols": {
    "lenName": 16,
    "lenType": 16,
    "lenVar": 40
   },
   "kernels_config": {
    "python": {
     "delete_cmd_postfix": "",
     "delete_cmd_prefix": "del ",
     "library": "var_list.py",
     "varRefreshCmd": "print(var_dic_list())"
    },
    "r": {
     "delete_cmd_postfix": ") ",
     "delete_cmd_prefix": "rm(",
     "library": "var_list.r",
     "varRefreshCmd": "cat(var_dic_list()) "
    }
   },
   "types_to_exclude": [
    "module",
    "function",
    "builtin_function_or_method",
    "instance",
    "_Feature"
   ],
   "window_display": false
  }
 },
 "nbformat": 4,
 "nbformat_minor": 4
}
